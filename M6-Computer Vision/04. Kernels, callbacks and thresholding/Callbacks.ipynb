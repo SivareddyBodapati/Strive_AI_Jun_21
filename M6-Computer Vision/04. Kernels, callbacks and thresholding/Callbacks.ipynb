{
 "cells": [
  {
   "cell_type": "markdown",
   "metadata": {},
   "source": [
    "# OpenCV Callbacks"
   ]
  },
  {
   "cell_type": "code",
   "execution_count": 2,
   "metadata": {
    "ExecuteTime": {
     "end_time": "2019-11-19T09:54:11.762369Z",
     "start_time": "2019-11-19T09:54:09.945225Z"
    }
   },
   "outputs": [],
   "source": [
    "import cv2\n",
    "import numpy as np\n",
    "import matplotlib.pyplot as plt\n",
    "%matplotlib inline"
   ]
  },
  {
   "cell_type": "code",
   "execution_count": 3,
   "metadata": {},
   "outputs": [],
   "source": [
    "img_4 = cv2.imread('img/4.png')\n",
    "img_clean_text= cv2.imread('img/clean-text.jpg')\n",
    "img_n =cv2.imread('img/n.png')\n",
    "img_noisy =cv2.imread('img/noisy.png')\n",
    "img_notes = cv2.imread('img/notes.png')\n",
    "img_sketch =cv2.imread('img/sketch.png')\n",
    "img_text=cv2.imread('img/text.png')"
   ]
  },
  {
   "cell_type": "code",
   "execution_count": 3,
   "metadata": {},
   "outputs": [
    {
     "data": {
      "text/plain": [
       "-1"
      ]
     },
     "execution_count": 3,
     "metadata": {},
     "output_type": "execute_result"
    }
   ],
   "source": [
    "cv2.imshow('digit_4',img_noisy)\n",
    "cv2.waitKey(0)\n",
    "cv2.destroyAllWindows()\n",
    "cv2.waitKey(1)"
   ]
  },
  {
   "cell_type": "markdown",
   "metadata": {},
   "source": [
    "## Keyboard callbacks"
   ]
  },
  {
   "cell_type": "code",
   "execution_count": 5,
   "metadata": {
    "ExecuteTime": {
     "end_time": "2019-11-19T11:10:33.575331Z",
     "start_time": "2019-11-19T11:10:32.647518Z"
    }
   },
   "outputs": [],
   "source": [
    "# Load an image and show it on screen with cv2.imshow\n",
    "# When the key g or G is detected then change the image to show in grayscale\n",
    "# When the key c or C is detected then change the image to show in color\n",
    "# When the key t or T is detected then change the image to show the thresholded version of the image\n",
    "# When the key esc is detected close the image\n",
    "\n"
   ]
  },
  {
   "cell_type": "code",
   "execution_count": 12,
   "metadata": {},
   "outputs": [
    {
     "data": {
      "text/plain": [
       "-1"
      ]
     },
     "execution_count": 12,
     "metadata": {},
     "output_type": "execute_result"
    }
   ],
   "source": [
    "count = 0\n",
    "# web_cam = cv2.VideoCapture(0)\n",
    "key = 0\n",
    "img = img_noisy.copy()\n",
    "while(True):\n",
    "    \n",
    "    if key == 27:\n",
    "        break\n",
    "        \n",
    "    if key == ord('c') or key == ord('C'):\n",
    "        count += 1\n",
    "        img = img_noisy.copy()\n",
    "        img = cv2.cvtColor(img,cv2.COLOR_BGR2RGB)\n",
    "        cv2.putText(img, f'Count +1 = {count}', (100,100),cv2.FONT_HERSHEY_COMPLEX, 2, (0,255,0),2)\n",
    "        \n",
    "    if key == ord('g') or key == ord('G'):\n",
    "        count -= 1\n",
    "        img = img_noisy.copy()\n",
    "        img=cv2.cvtColor(img,cv2.COLOR_BGR2GRAY)\n",
    "        cv2.putText(img, f'Count -1 = {count}', (100,100), cv2.FONT_HERSHEY_COMPLEX, 2, (0,255,0),2)  \n",
    "    \n",
    "    if key == ord('t') or key == ord('T'):\n",
    "        count -= 1\n",
    "        img = img_noisy.copy()\n",
    "        retu,img=cv2.threshold(img,120,255,cv2.THRESH_BINARY)\n",
    "        cv2.putText(img, f'Count -1 = {count}', (100,100), cv2.FONT_HERSHEY_COMPLEX, 2, (0,255,0),2) \n",
    "        \n",
    "    cv2.imshow('Image',img)\n",
    "    key = cv2.waitKey(0)\n",
    "        \n",
    "\n",
    "cv2.destroyAllWindows()\n",
    "cv2.waitKey(1)"
   ]
  },
  {
   "cell_type": "markdown",
   "metadata": {},
   "source": [
    "[Hint](# \"You will need to use cv2.waitKey and python ord functions\") "
   ]
  },
  {
   "cell_type": "code",
   "execution_count": 11,
   "metadata": {},
   "outputs": [
    {
     "data": {
      "text/plain": [
       "-1"
      ]
     },
     "execution_count": 11,
     "metadata": {},
     "output_type": "execute_result"
    }
   ],
   "source": [
    "# Do the same as above but using your webcam image \n",
    "\n",
    "count = 0\n",
    "web_cam = cv2.VideoCapture(0)\n",
    "key = 0\n",
    "img = np.ones((400,600),dtype='uint8')\n",
    "while(True):\n",
    "    ret, frame = web_cam.read()\n",
    "    \n",
    "    if key == 27:\n",
    "        break\n",
    "        \n",
    "    if key == ord('c') or key == ord('C'):\n",
    "        count += 1\n",
    "        img = frame.copy()\n",
    "        img = cv2.cvtColor(img,cv2.COLOR_BGR2RGB)\n",
    "        cv2.putText(img, f'Count +1 = {count}', (100,100),cv2.FONT_HERSHEY_COMPLEX, 2, (0,255,0),2)\n",
    "        \n",
    "    if key == ord('g') or key == ord('G'):\n",
    "        count -= 1\n",
    "        img = frame.copy()\n",
    "        img=cv2.cvtColor(img,cv2.COLOR_BGR2GRAY)\n",
    "        cv2.putText(img, f'Count -1 = {count}', (100,100), cv2.FONT_HERSHEY_COMPLEX, 2, (0,255,0),2)  \n",
    "    \n",
    "    cv2.imshow('Image',img)\n",
    "    key = cv2.waitKey(0)\n",
    "        \n",
    "web_cam.release()\n",
    "cv2.destroyAllWindows()\n",
    "cv2.waitKey(1)\n",
    "    "
   ]
  },
  {
   "cell_type": "code",
   "execution_count": 6,
   "metadata": {},
   "outputs": [],
   "source": [
    "import cv2\n",
    "vid = cv2.VideoCapture(0)\n",
    "while(True):\n",
    "    ret, frame = vid.read()\n",
    "    cv2.imshow('frame',frame)\n",
    "    if cv2.waitKey(1)& 0xFF == 27: # hit esc key to exit\n",
    "        break\n",
    "vid.release()\n",
    "cv2.destroyAllWindows()"
   ]
  },
  {
   "cell_type": "markdown",
   "metadata": {},
   "source": [
    "[Hint](# \"You will need to use cv2.VideoCapture function\") "
   ]
  },
  {
   "cell_type": "markdown",
   "metadata": {},
   "source": [
    "## Mouse callbacks"
   ]
  },
  {
   "cell_type": "code",
   "execution_count": null,
   "metadata": {},
   "outputs": [],
   "source": [
    "# Load an image and show it on screen with cv2.imshow\n",
    "# When the user clicks on top of the image save the coordinates\n",
    "# The user will then move the cursor without releasing the mouse button to another position\n",
    "# When the user releases the button draw a rectagle around the ROI\n",
    "# When the key esc is detected close the image\n"
   ]
  },
  {
   "cell_type": "code",
   "execution_count": 16,
   "metadata": {},
   "outputs": [
    {
     "data": {
      "text/plain": [
       "-1"
      ]
     },
     "execution_count": 16,
     "metadata": {},
     "output_type": "execute_result"
    }
   ],
   "source": [
    "img1=img_noisy.copy()\n",
    "window_name='Mouse_callbacks'\n",
    "cv2.namedWindow(window_name)\n",
    "\n",
    "def draw_square(action, x, y, flags, userdata):\n",
    "    if action == cv2.EVENT_LBUTTONUP: \n",
    "        cv2.rectangle(userdata, (x,y), (x+50,y+50), (0,255,0), cv2.FILLED) # green color square\n",
    "        cv2.imshow(window_name,userdata)\n",
    "        \n",
    "    if action == cv2.EVENT_RBUTTONUP:\n",
    "        cv2.rectangle(userdata, (x,y), (x+50,y+50), (0,0,255,), cv2.FILLED) #red color square as cv2\n",
    "        cv2.imshow(window_name,userdata)\n",
    "        \n",
    "cv2.setMouseCallback(window_name, draw_square, img1)\n",
    "\n",
    "cv2.imshow(window_name,img1)\n",
    "cv2.waitKey(0)\n",
    "cv2.destroyAllWindows()\n",
    "cv2.waitKey(1)"
   ]
  },
  {
   "cell_type": "code",
   "execution_count": null,
   "metadata": {},
   "outputs": [],
   "source": [
    "# Crop and save the ROI image to disk \n"
   ]
  },
  {
   "cell_type": "code",
   "execution_count": null,
   "metadata": {},
   "outputs": [],
   "source": [
    "img2=img_noisy.copy()\n",
    "window_name='Mouse_callbacks'\n",
    "cv2.namedWindow(window_name)\n",
    "refpt =[]\n",
    "def draw_square(action, x, y, flags, userdata):\n",
    "    global refpt\n",
    "    if action == cv2.EVENT_LBUTTONDOWN: \n",
    "        refpt =[(x,y)]\n",
    "#         cv2.rectangle(userdata, (x,y), (x+50,y+50), (0,255,0), cv2.FILLED) # green color square\n",
    "#         cv2.imshow(window_name,userdata)\n",
    "        \n",
    "    elif action == cv2.EVENT_LBUTTONUP:\n",
    "        refpt.append((x,y))\n",
    "        \n",
    "        cv2.rectangle(userdata, refpt[0], refpt[1], (0,0,255,), 2) #red color square as cv2\n",
    "        cv2.imshow(window_name,userdata)\n",
    "        \n",
    "cv2.setMouseCallback(window_name, draw_square, img2)\n",
    "\n",
    "cv2.imshow(window_name,img2)\n",
    "cv2.waitKey(0)\n",
    "\n",
    "# if len(refpt) == 2:\n",
    "#     ROI = img2[refPt[0][1]:refPt[1][1], refPt[0][0]:refPt[1][0]]\n",
    "#     cv2.imshow('ROI',ROI)\n",
    "#     cv2.waitKey(0)\n",
    "    \n",
    "cv2.destroyAllWindows()\n",
    "cv2.waitKey(1)\n",
    "\n",
    "\n",
    "    "
   ]
  },
  {
   "cell_type": "markdown",
   "metadata": {},
   "source": [
    "[Hint](# \"cv2.setMouseCallback\") "
   ]
  },
  {
   "cell_type": "markdown",
   "metadata": {},
   "source": [
    "## Trackbars"
   ]
  },
  {
   "cell_type": "code",
   "execution_count": 8,
   "metadata": {
    "ExecuteTime": {
     "end_time": "2019-11-19T11:17:26.647991Z",
     "start_time": "2019-11-19T11:17:26.635749Z"
    }
   },
   "outputs": [],
   "source": [
    "# Create a named window, load and show an image in that window\n",
    "img = img_noisy.copy()\n",
    "img = cv2.cvtColor(img,cv2.COLOR_BGR2GRAY)\n",
    "window_name = 'Trackbars'\n"
   ]
  },
  {
   "cell_type": "markdown",
   "metadata": {},
   "source": [
    "[Hint](# \"cv2.namedWindow\") "
   ]
  },
  {
   "cell_type": "code",
   "execution_count": 9,
   "metadata": {},
   "outputs": [
    {
     "data": {
      "text/plain": [
       "-1"
      ]
     },
     "execution_count": 9,
     "metadata": {},
     "output_type": "execute_result"
    }
   ],
   "source": [
    "# Add at least 3 different trackbars to the window (choose of any parameters that you want to modify with them)\n",
    "# Each trackbar will modify some parameter of the image, write a function for each trackbar\n",
    "# When the user move the trackbar around the image should be updated accordingly\n",
    "# When the key esc is detected close the image\n",
    "th_value =127\n",
    "# max_value = 255\n",
    "th_type = cv2.THRESH_BINARY\n",
    "\n",
    "threshold_types =[cv2.THRESH_BINARY,cv2.THRESH_BINARY_INV,cv2.THRESH_TOZERO,cv2.THRESH_TOZERO_INV,cv2.THRESH_TRUNC]\n",
    "\n",
    "def change_threshold_Value(val):\n",
    "    th_value =val\n",
    "    ret, th = cv2.threshold(img, th_value, 255,th_type)\n",
    "    cv2.imshow(window_name,th)\n",
    "\n",
    "cv2.namedWindow(window_name)\n",
    "\n",
    "cv2.createTrackbar('Threshold_Value', window_name, th_value,255, change_threshold_Value)\n",
    "cv2.createTrackbar('Threshold_Type', window_name, th_type, 4, change_threshold_Value)\n",
    "\n",
    "cv2.imshow(window_name,img)\n",
    "cv2.waitKey(0)\n",
    "cv2.destroyAllWindows()\n",
    "cv2.waitKey(1)"
   ]
  },
  {
   "cell_type": "markdown",
   "metadata": {},
   "source": [
    "[Hint](# \"cv2.createTrackbar\") "
   ]
  },
  {
   "cell_type": "code",
   "execution_count": null,
   "metadata": {
    "ExecuteTime": {
     "end_time": "2019-11-19T11:17:40.562115Z",
     "start_time": "2019-11-19T11:17:39.321415Z"
    },
    "scrolled": false
   },
   "outputs": [],
   "source": [
    "# Do the same as above but using your webcam image so the trackbars will apply the changes on live image\n"
   ]
  }
 ],
 "metadata": {
  "kernelspec": {
   "display_name": "Python 3 (ipykernel)",
   "language": "python",
   "name": "python3"
  },
  "language_info": {
   "codemirror_mode": {
    "name": "ipython",
    "version": 3
   },
   "file_extension": ".py",
   "mimetype": "text/x-python",
   "name": "python",
   "nbconvert_exporter": "python",
   "pygments_lexer": "ipython3",
   "version": "3.8.11"
  }
 },
 "nbformat": 4,
 "nbformat_minor": 2
}

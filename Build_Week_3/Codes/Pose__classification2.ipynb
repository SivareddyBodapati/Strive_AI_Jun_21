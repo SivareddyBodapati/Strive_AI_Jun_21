{
  "cells": [
    {
      "cell_type": "code",
      "execution_count": 1,
      "metadata": {
        "colab": {
          "base_uri": "https://localhost:8080/"
        },
        "id": "bKOPcAlYMEXR",
        "outputId": "137cbb03-4ecc-4d2e-fb54-963ca6eceefd"
      },
      "outputs": [
        {
          "name": "stdout",
          "output_type": "stream",
          "text": [
            "done\n"
          ]
        }
      ],
      "source": [
        "# run this only once when you a zip file and when it is recycled\n",
        "# from zipfile import ZipFile\n",
        "# file_name = 'data_3.zip'\n",
        "\n",
        "# with ZipFile(file_name,'r') as zip:\n",
        "#   zip.extractall()\n",
        "#   print('done')"
      ]
    },
    {
      "cell_type": "code",
      "execution_count": 2,
      "metadata": {
        "id": "grZT5UHPVi0b"
      },
      "outputs": [],
      "source": [
        "# import the Libraries\n",
        "\n",
        "import numpy as np  # numpy\n",
        "import matplotlib.pyplot as plt  # plots for visualizationpath\n",
        "import os  # for path folders\n",
        "import pathlib\n",
        "import glob\n",
        "\n",
        "import cv2   # computer vision or OpenCv\n",
        "import torch # PyTorch DeepLearning\n",
        "from torchvision import transforms, datasets # laod data and transform to tensor\n",
        "from torch.utils.data import DataLoader # for batch_size data\n",
        "from torchvision.utils import make_grid\n",
        "\n",
        "import torch.nn as nn  # MOdel\n",
        "from torch import optim  # optimizer\n",
        "from torchsummary import summary \n",
        "\n",
        "from torch.autograd import Variable\n",
        "import torch.nn.functional as F  \n",
        "from PIL import Image "
      ]
    },
    {
      "cell_type": "code",
      "execution_count": 3,
      "metadata": {
        "colab": {
          "base_uri": "https://localhost:8080/"
        },
        "id": "jaM0Sa4PVk8f",
        "outputId": "51d1b1a9-6247-4f81-876d-da53a02bf308"
      },
      "outputs": [
        {
          "name": "stdout",
          "output_type": "stream",
          "text": [
            "cpu\n"
          ]
        }
      ],
      "source": [
        "# checking for device\n",
        "device = torch.device('cuda' if torch.cuda.is_available() else 'cpu')\n",
        "print(device)"
      ]
    },
    {
      "cell_type": "code",
      "execution_count": 4,
      "metadata": {
        "id": "CW4bUOkuVoMz"
      },
      "outputs": [],
      "source": [
        "path ='data_3/'"
      ]
    },
    {
      "cell_type": "code",
      "execution_count": 5,
      "metadata": {
        "id": "UgVJR1QaVpGZ"
      },
      "outputs": [],
      "source": [
        "# transforms\n",
        "# to tranform the data to tensors  and Data Augumentation\n",
        "train_transforms = transforms.Compose([transforms.Resize((256,256)),\n",
        "                                       transforms.RandomCrop(224),\n",
        "                                       transforms.RandomRotation(30),\n",
        "                                       transforms.RandomHorizontalFlip(),\n",
        "                                       transforms.ToTensor(),\n",
        "                                       transforms.Normalize([0.5,0.5,0.5],\n",
        "                                                            [0.5,0.5,0.5])\n",
        "                                       ])\n",
        "test_transforms = transforms.Compose([ transforms.Resize((256,256)),\n",
        "                                      transforms.RandomCrop(224),\n",
        "                                       transforms.ToTensor(),\n",
        "                                       transforms.Normalize([0.5,0.5,0.5],\n",
        "                                                            [0.5,0.5,0.5])\n",
        "                                       ])"
      ]
    },
    {
      "cell_type": "code",
      "execution_count": 6,
      "metadata": {
        "id": "2-CZkG61WOaL"
      },
      "outputs": [],
      "source": [
        "# Data for Train & Test\n",
        "train_data = datasets.ImageFolder(path+'Train', transform=train_transforms)\n",
        "test_data = datasets.ImageFolder(path+'Test', transform=test_transforms)"
      ]
    },
    {
      "cell_type": "code",
      "execution_count": 7,
      "metadata": {
        "id": "6SIIewR5WWBA"
      },
      "outputs": [],
      "source": [
        "# Dataloader \n",
        "train_loader = DataLoader(train_data, batch_size=64, shuffle=True)\n",
        "test_loader  = DataLoader(test_data, batch_size=64, shuffle=True)"
      ]
    },
    {
      "cell_type": "code",
      "execution_count": 8,
      "metadata": {
        "colab": {
          "base_uri": "https://localhost:8080/"
        },
        "id": "ZI3T35JjWTh5",
        "outputId": "953b0788-32c0-4418-b6ae-35e1fc97bcf5"
      },
      "outputs": [
        {
          "name": "stdout",
          "output_type": "stream",
          "text": [
            "14 4\n"
          ]
        }
      ],
      "source": [
        "# no of batches in train and Test\n",
        "print(len(train_loader),len(test_loader)) # no of batches in the data no of iterations for each epoch (i)"
      ]
    },
    {
      "cell_type": "code",
      "execution_count": 9,
      "metadata": {
        "colab": {
          "base_uri": "https://localhost:8080/",
          "height": 275
        },
        "id": "BZ2gn0s6WYxR",
        "outputId": "d7a13746-4364-4fc3-f446-a0ecc884419f"
      },
      "outputs": [
        {
          "name": "stderr",
          "output_type": "stream",
          "text": [
            "Clipping input data to the valid range for imshow with RGB data ([0..1] for floats or [0..255] for integers).\n"
          ]
        },
        {
          "data": {
            "image/png": "[encoded data removed]",
            "text/plain": [
              "<Figure size 1152x864 with 1 Axes>"
            ]
          },
          "metadata": {},
          "output_type": "display_data"
        }
      ],
      "source": [
        "\n",
        "def show_batch(dl):\n",
        "    \"\"\"Plot images grid of single batch\"\"\"\n",
        "    for images, labels in dl:\n",
        "        fig,ax = plt.subplots(figsize = (16,12))\n",
        "        ax.set_xticks([])\n",
        "        ax.set_yticks([])\n",
        "        ax.imshow(make_grid(images,nrow=16).permute(1,2,0))\n",
        "        break\n",
        "show_batch(train_loader)"
      ]
    },
    {
      "cell_type": "code",
      "execution_count": 10,
      "metadata": {
        "colab": {
          "base_uri": "https://localhost:8080/"
        },
        "id": "Ao3Ilf0NWeva",
        "outputId": "e5bfde23-f06c-4046-8666-6d7caa02c9a7"
      },
      "outputs": [
        {
          "name": "stdout",
          "output_type": "stream",
          "text": [
            "torch.Size([64, 3, 224, 224])\n",
            "64\n"
          ]
        }
      ],
      "source": [
        "# Tensoer images & labels\n",
        "images, labels = next(iter(train_loader))\n",
        "print(images.shape)\n",
        "print(len(labels))"
      ]
    },
    {
      "cell_type": "code",
      "execution_count": 11,
      "metadata": {
        "colab": {
          "base_uri": "https://localhost:8080/"
        },
        "id": "7YJaDQzqWh4G",
        "outputId": "8bb596d7-361d-45bd-d4af-4a69ff1e8be3"
      },
      "outputs": [
        {
          "name": "stdout",
          "output_type": "stream",
          "text": [
            "['pushup', 'situp'] ['pushup', 'situp']\n"
          ]
        }
      ],
      "source": [
        "# classes\n",
        "classes = sorted([j.name.split('/')[-1] for j in pathlib.Path(path+'Train').iterdir()])\n",
        "classes_test = sorted([j.name.split('/')[-1] for j in pathlib.Path(path+'Test').iterdir()])\n",
        "print(classes,classes_test)"
      ]
    },
    {
      "cell_type": "code",
      "execution_count": 18,
      "metadata": {
        "id": "sQZx7yg1Wlki"
      },
      "outputs": [],
      "source": [
        "# Convolutional Neural Network (CNN) Module\n",
        "class ConvNet(nn.Module):\n",
        "  def __init__(self,num_classes=2):\n",
        "    super(ConvNet, self).__init__()\n",
        "    \n",
        "    # First convolutional Layer\n",
        "\n",
        "    # Output size after convolutional filter\n",
        "    #(w-f+2p)/s +1 = 224-3+2*1 =224\n",
        "    # input shape = 32,3,224,224 'batchsize,rgb colour, height , width of an image \n",
        "\n",
        "    self.conv1 = nn.Conv2d(in_channels=3,out_channels=16,kernel_size=3,stride=1,padding=1)\n",
        "    # New Shape =(32,12,224,224)\n",
        "    # Batch_Normalization no of features = no of out_channels\n",
        "    self.bn1 =nn.BatchNorm2d(num_features=16)\n",
        "    self.relu1 = nn.ReLU()\n",
        "    #reduce the dimension of conv output by a factor of kernel size\n",
        "    self.pool = nn.MaxPool2d(kernel_size=2)\n",
        "    #new shape = (32,12,112,112)\n",
        "    # Define proportion or neurons to dropout\n",
        "    self.dropout = nn.Dropout(0.25)\n",
        "    # second convoluitonal layer \n",
        "    self.conv2 = nn.Conv2d(in_channels=16,out_channels=32,kernel_size=3,stride=1,padding=1)\n",
        "    # shape = (32,20,112,112)\n",
        "    self.bn2 =nn.BatchNorm2d(num_features=32)\n",
        "    self.relu2 = nn.ReLU()\n",
        "    # self.pool = nn.MaxPool2d(kernel_size=2)\n",
        "    #new shape = (32,20,56,56)\n",
        "    # Third convoluitonal layer \n",
        "    self.conv3 = nn.Conv2d(in_channels=32,out_channels=64,kernel_size=3,stride=1,padding=1)\n",
        "    # shape = (32,32,112,112)\n",
        "    # Batch_Normalization no of features = no of out_channels\n",
        "    self.bn3 =nn.BatchNorm2d(num_features=64)\n",
        "    self.relu3 = nn.ReLU()\n",
        "    \n",
        "    # fully connected layer\n",
        "    self.fc = nn.Linear(in_features=112 * 112 * 64,out_features=num_classes)\n",
        "    \n",
        "    #Forward Function\n",
        "  def forward(self,input):\n",
        "    output=self.conv1(input)\n",
        "    output =self.bn1(output)\n",
        "    output=self.relu1(output)\n",
        "    output = self.dropout(output)\n",
        "    output=self.pool(output)\n",
        "\n",
        "    output=self.conv2(output)\n",
        "    output =self.bn2(output)\n",
        "    output=self.relu2(output)\n",
        "    output = self.dropout(output)\n",
        "    # output = self.pool(output)\n",
        "\n",
        "    output=self.conv3(output)\n",
        "    output =self.bn3(output)\n",
        "    output=self.relu3(output)\n",
        "    output = self.dropout(output)\n",
        "      #Above output will be im matrix or tensor form with shape(32,32,112,112)for train for test(16,32,112,112)\n",
        "      # reshape to feed in fc\n",
        "    output=output.view(-1,64*112*112)  # flattern the data\n",
        "    output =self.fc(output)\n",
        "\n",
        "    return output\n"
      ]
    },
    {
      "cell_type": "code",
      "execution_count": 19,
      "metadata": {
        "colab": {
          "base_uri": "https://localhost:8080/"
        },
        "id": "XhRsVt4yWvom",
        "outputId": "fa620a48-1610-4ea4-d688-575f83af6723"
      },
      "outputs": [
        {
          "data": {
            "text/plain": [
              "ConvNet(\n",
              "  (conv1): Conv2d(3, 16, kernel_size=(3, 3), stride=(1, 1), padding=(1, 1))\n",
              "  (bn1): BatchNorm2d(16, eps=1e-05, momentum=0.1, affine=True, track_running_stats=True)\n",
              "  (relu1): ReLU()\n",
              "  (pool): MaxPool2d(kernel_size=2, stride=2, padding=0, dilation=1, ceil_mode=False)\n",
              "  (dropout): Dropout(p=0.25, inplace=False)\n",
              "  (conv2): Conv2d(16, 32, kernel_size=(3, 3), stride=(1, 1), padding=(1, 1))\n",
              "  (bn2): BatchNorm2d(32, eps=1e-05, momentum=0.1, affine=True, track_running_stats=True)\n",
              "  (relu2): ReLU()\n",
              "  (conv3): Conv2d(32, 64, kernel_size=(3, 3), stride=(1, 1), padding=(1, 1))\n",
              "  (bn3): BatchNorm2d(64, eps=1e-05, momentum=0.1, affine=True, track_running_stats=True)\n",
              "  (relu3): ReLU()\n",
              "  (fc): Linear(in_features=802816, out_features=2, bias=True)\n",
              ")"
            ]
          },
          "execution_count": 19,
          "metadata": {},
          "output_type": "execute_result"
        }
      ],
      "source": [
        "model = ConvNet(num_classes=2)\n",
        "model"
      ]
    },
    {
      "cell_type": "code",
      "execution_count": 21,
      "metadata": {
        "id": "_pGRipFAXBm1"
      },
      "outputs": [],
      "source": [
        "# Optimizer and Loss Function\n",
        "optimizer = optim.Adam(model.parameters(), lr=0.001, weight_decay=0.0001)\n",
        "loss_function = nn.CrossEntropyLoss()"
      ]
    },
    {
      "cell_type": "code",
      "execution_count": 22,
      "metadata": {
        "colab": {
          "base_uri": "https://localhost:8080/"
        },
        "id": "np4X2xnFXIOs",
        "outputId": "d4fab463-c2fa-48b7-fa0a-9da2bbe3f5fd"
      },
      "outputs": [
        {
          "name": "stdout",
          "output_type": "stream",
          "text": [
            "848 201\n"
          ]
        }
      ],
      "source": [
        "train_images_count = len(glob.glob(path+'Train'+'/**/*'))\n",
        "test_images_count = len(glob.glob(path+'Test'+'/**/*'))\n",
        "print(train_images_count, test_images_count)"
      ]
    },
    {
      "cell_type": "code",
      "execution_count": 24,
      "metadata": {
        "colab": {
          "base_uri": "https://localhost:8080/"
        },
        "id": "YFWFFLAhXLsS",
        "outputId": "c3a67a13-2ae8-4c53-f699-21179b225df8"
      },
      "outputs": [
        {
          "name": "stderr",
          "output_type": "stream",
          "text": [
            "/usr/local/lib/python3.7/dist-packages/torch/nn/functional.py:718: UserWarning: Named tensors and all their associated APIs are an experimental feature and subject to change. Please do not use them for anything important until they are released as stable. (Triggered internally at  /pytorch/c10/core/TensorImpl.h:1156.)\n",
            "  return torch.max_pool2d(input, kernel_size, stride, padding, dilation, ceil_mode)\n"
          ]
        },
        {
          "name": "stdout",
          "output_type": "stream",
          "text": [
            "Epoch: 0 Train Loss: 376 Train_Accuracy: 0.5554245283018868Test Loss: 11 Test_Accuracy: 0.5024875621890548\n",
            "Epoch: 1 Train Loss: 70 Train_Accuracy: 0.7806603773584906Test Loss: 5 Test_Accuracy: 0.7114427860696517\n",
            "Epoch: 2 Train Loss: 37 Train_Accuracy: 0.8408018867924528Test Loss: 3 Test_Accuracy: 0.8805970149253731\n",
            "Epoch: 3 Train Loss: 23 Train_Accuracy: 0.8667452830188679Test Loss: 30 Test_Accuracy: 0.5870646766169154\n",
            "Epoch: 4 Train Loss: 27 Train_Accuracy: 0.8879716981132075Test Loss: 6 Test_Accuracy: 0.8855721393034826\n",
            "Epoch: 5 Train Loss: 18 Train_Accuracy: 0.9162735849056604Test Loss: 5 Test_Accuracy: 0.8756218905472637\n",
            "Epoch: 6 Train Loss: 12 Train_Accuracy: 0.9304245283018868Test Loss: 6 Test_Accuracy: 0.8507462686567164\n",
            "Epoch: 7 Train Loss: 14 Train_Accuracy: 0.9162735849056604Test Loss: 2 Test_Accuracy: 0.9651741293532339\n",
            "Epoch: 8 Train Loss: 7 Train_Accuracy: 0.9492924528301887Test Loss: 4 Test_Accuracy: 0.8905472636815921\n",
            "Epoch: 9 Train Loss: 7 Train_Accuracy: 0.9422169811320755Test Loss: 3 Test_Accuracy: 0.900497512437811\n",
            "Epoch: 10 Train Loss: 8 Train_Accuracy: 0.9351415094339622Test Loss: 4 Test_Accuracy: 0.9054726368159204\n",
            "Epoch: 11 Train Loss: 8 Train_Accuracy: 0.9445754716981132Test Loss: 9 Test_Accuracy: 0.8756218905472637\n",
            "Epoch: 12 Train Loss: 7 Train_Accuracy: 0.9492924528301887Test Loss: 5 Test_Accuracy: 0.8606965174129353\n",
            "Epoch: 13 Train Loss: 8 Train_Accuracy: 0.9410377358490566Test Loss: 134 Test_Accuracy: 0.5074626865671642\n",
            "Epoch: 14 Train Loss: 12 Train_Accuracy: 0.9304245283018868Test Loss: 2 Test_Accuracy: 0.9253731343283582\n",
            "Epoch: 15 Train Loss: 14 Train_Accuracy: 0.9339622641509434Test Loss: 4 Test_Accuracy: 0.9154228855721394\n",
            "Epoch: 16 Train Loss: 15 Train_Accuracy: 0.9174528301886793Test Loss: 198 Test_Accuracy: 0.5024875621890548\n",
            "Epoch: 17 Train Loss: 9 Train_Accuracy: 0.9469339622641509Test Loss: 233 Test_Accuracy: 0.5024875621890548\n",
            "Epoch: 18 Train Loss: 8 Train_Accuracy: 0.9563679245283019Test Loss: 12 Test_Accuracy: 0.9253731343283582\n"
          ]
        }
      ],
      "source": [
        "# Model tarining and saving the best model\n",
        "best_accuracy = 0\n",
        "for epoch in range(19):\n",
        "  # Evaluation and training on train_dataloader\n",
        "  model.train()\n",
        "  train_accuracy = 0\n",
        "  train_loss = 0\n",
        "  for i, (images,labels) in enumerate(train_loader):\n",
        "    # if torch.cuda.is_available():\n",
        "    #   images=Variable(images.cuda())\n",
        "    #   labels = Variable(labels.cuda())\n",
        "    optimizer.zero_grad() #to set gradient to zero for every batch\n",
        "\n",
        "    outputs = model(images) # forward model\n",
        "    loss = loss_function(outputs,labels) # computing loss\n",
        "    loss.backward()  # loss propagation\n",
        "    optimizer.step()  # updating weights and bias\n",
        "\n",
        "    train_loss += loss.item()\n",
        "    _,prediction = torch.max(outputs.data,1)\n",
        "\n",
        "    train_accuracy += int(torch.sum(prediction==labels.data))\n",
        "\n",
        "  train_accuracy = train_accuracy/train_images_count\n",
        "  \n",
        "  # Evaluation on test_dataloader\n",
        "  with torch.no_grad():\n",
        "    model.eval()\n",
        "    test_loss = 0\n",
        "    test_accuracy = 0\n",
        "    for i, (images,labels) in enumerate(test_loader):\n",
        "\n",
        "      outputs = model(images) # forward model\n",
        "      loss = loss_function(outputs,labels) # computing loss\n",
        "      test_loss += loss.item()\n",
        "      _,prediction = torch.max(outputs.data,1)\n",
        "      test_accuracy += int(torch.sum(prediction==labels.data))\n",
        "\n",
        "    test_accuracy = test_accuracy/test_images_count\n",
        "\n",
        "    if test_accuracy > best_accuracy:\n",
        "      torch.save(model.state_dict(), 'Best_Pose_Model_7.pth') \n",
        "      best_accuracy=test_accuracy\n",
        "\n",
        "  print('Epoch: '+ str(epoch) +' Train Loss: '+str(int(train_loss))+' Train_Accuracy: '+str(train_accuracy)+'Test Loss: '+str(int(test_loss))+' Test_Accuracy: '+str(test_accuracy))"
      ]
    }
  ],
  "metadata": {
    "colab": {
      "collapsed_sections": [],
      "name": "Pose _classification2.ipynb",
      "provenance": []
    },
    "kernelspec": {
      "display_name": "Python 3",
      "name": "python3"
    },
    "language_info": {
      "name": "python"
    }
  },
  "nbformat": 4,
  "nbformat_minor": 0
}

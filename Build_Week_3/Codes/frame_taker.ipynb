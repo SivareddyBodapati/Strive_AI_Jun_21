{
 "cells": [
  {
   "cell_type": "code",
   "execution_count": 2,
   "metadata": {},
   "outputs": [],
   "source": [
    "import cv2\n",
    "import mediapipe as mp\n",
    "import os\n",
    "import frametaker"
   ]
  },
  {
   "cell_type": "code",
   "execution_count": null,
   "metadata": {},
   "outputs": [],
   "source": [
    "videopath_1 = r'C:/Users/User/Documents/Build_Week_3/Videos/pushup1.mp4'\n",
    "videopath_2 = r'C:\\Users\\ASUS\\Videos\\Fitness App Videos\\pushup2.mp4'\n",
    "videopath_3 = r'C:\\Users\\ASUS\\Videos\\Fitness App Videos\\pushup3.mp4'\n",
    "videopath_4 = r'C:\\Users\\ASUS\\Videos\\Fitness App Videos\\pushup4.mp4'\n",
    "videopath_5 = r'C:\\Users\\ASUS\\Videos\\Fitness App Videos\\pushup5.mp4'\n",
    "videopath_6 = r'C:\\Users\\ASUS\\Videos\\Fitness App Videos\\pushup6.mp4'\n",
    "videopath_7 = r'C:\\Users\\ASUS\\Videos\\Fitness App Videos\\pushup7.mp4'\n",
    "videopath_8 = r'C:\\Users\\ASUS\\Videos\\Fitness App Videos\\pushup8.mp4'\n",
    "videopath_9 = r'C:\\Users\\ASUS\\Videos\\Fitness App Videos\\pushup9.mp4'\n",
    "videopath_10 = r'C:\\Users\\ASUS\\Videos\\Fitness App Videos\\pushup10.mp4'\n",
    "videopath_11 = r'C:\\Users\\ASUS\\Videos\\Fitness App Videos\\pushup11.mp4'\n",
    "videopath_12 = r'C:\\Users\\ASUS\\Videos\\Fitness App Videos\\pushup12.mp4'\n",
    "\n",
    "situp_videopath_1 = r'C:\\Users\\ASUS\\Videos\\Fitness App Videos\\situp1.mp4'\n",
    "situp_videopath_2 = r'C:\\Users\\ASUS\\Videos\\Fitness App Videos\\situp2.mp4'\n",
    "situp_videopath_3 = r'C:\\Users\\ASUS\\Videos\\Fitness App Videos\\situp3.mp4'\n",
    "situp_videopath_4 = r'C:\\Users\\ASUS\\Videos\\Fitness App Videos\\situp4.mp4'\n",
    "situp_videopath_5 = r'C:\\Users\\ASUS\\Videos\\Fitness App Videos\\situp5.mp4'\n",
    "situp_videopath_6 = r'C:\\Users\\ASUS\\Videos\\Fitness App Videos\\situp6.mp4'\n",
    "situp_videopath_7 = r'C:\\Users\\ASUS\\Videos\\Fitness App Videos\\situp7.mp4'\n",
    "situp_videopath_8 = r'C:\\Users\\ASUS\\Videos\\Fitness App Videos\\situp8.mp4'"
   ]
  },
  {
   "cell_type": "code",
   "execution_count": null,
   "metadata": {},
   "outputs": [],
   "source": [
    "#Situps\n",
    "#sidefacing\n",
    "#Video 1 5:39 - 5:47\n",
    "frametaker.frame_taker_time_based('situp', 'side_face_situp_1', situp_videopath_1, 500, 339000, 347000)\n",
    "#Video 2 0:20 - 0:34\n",
    "frametaker.frame_taker_time_based('situp', 'side_face_situp_2', situp_videopath_2, 1000, 20000, 34000)\n",
    "#Video 2 1:25 - 1:41\n",
    "frametaker.frame_taker_time_based('situp', 'side_face_situp_2', situp_videopath_2, 1000, 85000, 101000)\n",
    "#Video 3 0:21 - 0:24\n",
    "frametaker.frame_taker_time_based('situp', 'side_face_situp_3', situp_videopath_3, 500, 21000, 25000)\n",
    "#Video 3 0:32 - 0:39\n",
    "frametaker.frame_taker_time_based('situp', 'side_face_situp_3', situp_videopath_3, 500, 32000, 39000)\n",
    "#Video 4 0:24 - 0:40\n",
    "frametaker.frame_taker_time_based('situp', 'side_face_situp_4', situp_videopath_4, 500, 24000, 40000)\n",
    "#Video 5 2:09 - 2:15\n",
    "frametaker.frame_taker_time_based('situp', 'side_face_situp_5', situp_videopath_5, 500, 129000, 135000)\n",
    "#Video 6 1:24 - 1:34\n",
    "frametaker.frame_taker_time_based('situp', 'side_face_situp_6', situp_videopath_6, 500, 84000, 94000)\n",
    "#Video 6 2:09 - 2:19\n",
    "frametaker.frame_taker_time_based('situp', 'side_face_situp_6', situp_videopath_6, 500, 129000, 139000)\n",
    "#Video 7 1:37 - 1:47\n",
    "frametaker.frame_taker_time_based('situp', 'side_face_situp_7', situp_videopath_7, 500, 97000, 107000)\n",
    "#Video 8 0:36 - 1:06\n",
    "frametaker.frame_taker_time_based('situp', 'side_face_situp_8', situp_videopath_8, 1000, 36000, 96000)\n",
    "\n",
    "\n",
    "    \n",
    "\n"
   ]
  }
 ],
 "metadata": {
  "interpreter": {
   "hash": "4b92eb150c7ca1002881808cdf0ac4f3a7331fa6c8d98dadfe8c415f7e9f5753"
  },
  "kernelspec": {
   "display_name": "Python 3.8.11 64-bit ('AI_DeepLearning': conda)",
   "name": "python3"
  },
  "language_info": {
   "codemirror_mode": {
    "name": "ipython",
    "version": 3
   },
   "file_extension": ".py",
   "mimetype": "text/x-python",
   "name": "python",
   "nbconvert_exporter": "python",
   "pygments_lexer": "ipython3",
   "version": "3.8.11"
  }
 },
 "nbformat": 4,
 "nbformat_minor": 2
}

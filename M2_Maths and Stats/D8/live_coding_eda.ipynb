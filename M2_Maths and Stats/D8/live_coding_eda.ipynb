{
 "cells": [
  {
   "cell_type": "code",
   "execution_count": 1,
   "id": "2a7fb41e",
   "metadata": {
    "ExecuteTime": {
     "end_time": "2021-07-21T07:19:56.696433Z",
     "start_time": "2021-07-21T07:19:56.185865Z"
    }
   },
   "outputs": [],
   "source": [
    "import pandas as pd\n",
    "import matplotlib.pyplot as plt\n",
    "import numpy as np"
   ]
  },
  {
   "cell_type": "code",
   "execution_count": 2,
   "id": "50163893",
   "metadata": {
    "ExecuteTime": {
     "end_time": "2021-07-21T07:20:29.966783Z",
     "start_time": "2021-07-21T07:20:29.491766Z"
    }
   },
   "outputs": [],
   "source": [
    "df = pd.read_csv(\"data/train_sample.csv\")"
   ]
  },
  {
   "cell_type": "code",
   "execution_count": 12,
   "id": "269b4566",
   "metadata": {
    "ExecuteTime": {
     "end_time": "2021-07-21T07:29:56.876367Z",
     "start_time": "2021-07-21T07:29:56.763893Z"
    }
   },
   "outputs": [
    {
     "data": {
      "text/html": [
       "<div>\n",
       "<style scoped>\n",
       "    .dataframe tbody tr th:only-of-type {\n",
       "        vertical-align: middle;\n",
       "    }\n",
       "\n",
       "    .dataframe tbody tr th {\n",
       "        vertical-align: top;\n",
       "    }\n",
       "\n",
       "    .dataframe thead th {\n",
       "        text-align: right;\n",
       "    }\n",
       "</style>\n",
       "<table border=\"1\" class=\"dataframe\">\n",
       "  <thead>\n",
       "    <tr style=\"text-align: right;\">\n",
       "      <th></th>\n",
       "      <th>UniqueID</th>\n",
       "      <th>disbursed_amount</th>\n",
       "      <th>asset_cost</th>\n",
       "      <th>ltv</th>\n",
       "      <th>branch_id</th>\n",
       "      <th>supplier_id</th>\n",
       "      <th>manufacturer_id</th>\n",
       "      <th>Current_pincode_ID</th>\n",
       "      <th>Date.of.Birth</th>\n",
       "      <th>Employment.Type</th>\n",
       "      <th>...</th>\n",
       "      <th>PERFORM_CNS.SCORE</th>\n",
       "      <th>PERFORM_CNS.SCORE.DESCRIPTION</th>\n",
       "      <th>PRI.NO.OF.ACCTS</th>\n",
       "      <th>PRI.ACTIVE.ACCTS</th>\n",
       "      <th>PRI.OVERDUE.ACCTS</th>\n",
       "      <th>PRI.CURRENT.BALANCE</th>\n",
       "      <th>PRI.SANCTIONED.AMOUNT</th>\n",
       "      <th>PRI.DISBURSED.AMOUNT</th>\n",
       "      <th>NO.OF_INQUIRIES</th>\n",
       "      <th>loan_default</th>\n",
       "    </tr>\n",
       "  </thead>\n",
       "  <tbody>\n",
       "    <tr>\n",
       "      <th>0</th>\n",
       "      <td>420825</td>\n",
       "      <td>50578</td>\n",
       "      <td>58400</td>\n",
       "      <td>89.55</td>\n",
       "      <td>67</td>\n",
       "      <td>22807</td>\n",
       "      <td>45</td>\n",
       "      <td>1441</td>\n",
       "      <td>1/1/1984</td>\n",
       "      <td>Salaried</td>\n",
       "      <td>...</td>\n",
       "      <td>0</td>\n",
       "      <td>No Bureau History Available</td>\n",
       "      <td>0</td>\n",
       "      <td>0</td>\n",
       "      <td>0</td>\n",
       "      <td>0</td>\n",
       "      <td>0</td>\n",
       "      <td>0</td>\n",
       "      <td>0</td>\n",
       "      <td>0</td>\n",
       "    </tr>\n",
       "    <tr>\n",
       "      <th>1</th>\n",
       "      <td>537409</td>\n",
       "      <td>47145</td>\n",
       "      <td>65550</td>\n",
       "      <td>73.23</td>\n",
       "      <td>67</td>\n",
       "      <td>22807</td>\n",
       "      <td>45</td>\n",
       "      <td>1502</td>\n",
       "      <td>31-07-85</td>\n",
       "      <td>Self employed</td>\n",
       "      <td>...</td>\n",
       "      <td>598</td>\n",
       "      <td>I-Medium Risk</td>\n",
       "      <td>1</td>\n",
       "      <td>1</td>\n",
       "      <td>1</td>\n",
       "      <td>27600</td>\n",
       "      <td>50200</td>\n",
       "      <td>50200</td>\n",
       "      <td>0</td>\n",
       "      <td>1</td>\n",
       "    </tr>\n",
       "    <tr>\n",
       "      <th>2</th>\n",
       "      <td>417566</td>\n",
       "      <td>53278</td>\n",
       "      <td>61360</td>\n",
       "      <td>89.63</td>\n",
       "      <td>67</td>\n",
       "      <td>22807</td>\n",
       "      <td>45</td>\n",
       "      <td>1497</td>\n",
       "      <td>24-08-85</td>\n",
       "      <td>Self employed</td>\n",
       "      <td>...</td>\n",
       "      <td>0</td>\n",
       "      <td>No Bureau History Available</td>\n",
       "      <td>0</td>\n",
       "      <td>0</td>\n",
       "      <td>0</td>\n",
       "      <td>0</td>\n",
       "      <td>0</td>\n",
       "      <td>0</td>\n",
       "      <td>0</td>\n",
       "      <td>0</td>\n",
       "    </tr>\n",
       "    <tr>\n",
       "      <th>3</th>\n",
       "      <td>624493</td>\n",
       "      <td>57513</td>\n",
       "      <td>66113</td>\n",
       "      <td>88.48</td>\n",
       "      <td>67</td>\n",
       "      <td>22807</td>\n",
       "      <td>45</td>\n",
       "      <td>1501</td>\n",
       "      <td>30-12-93</td>\n",
       "      <td>Self employed</td>\n",
       "      <td>...</td>\n",
       "      <td>305</td>\n",
       "      <td>L-Very High Risk</td>\n",
       "      <td>3</td>\n",
       "      <td>0</td>\n",
       "      <td>0</td>\n",
       "      <td>0</td>\n",
       "      <td>0</td>\n",
       "      <td>0</td>\n",
       "      <td>1</td>\n",
       "      <td>1</td>\n",
       "    </tr>\n",
       "    <tr>\n",
       "      <th>4</th>\n",
       "      <td>539055</td>\n",
       "      <td>52378</td>\n",
       "      <td>60300</td>\n",
       "      <td>88.39</td>\n",
       "      <td>67</td>\n",
       "      <td>22807</td>\n",
       "      <td>45</td>\n",
       "      <td>1495</td>\n",
       "      <td>9/12/1977</td>\n",
       "      <td>Self employed</td>\n",
       "      <td>...</td>\n",
       "      <td>0</td>\n",
       "      <td>No Bureau History Available</td>\n",
       "      <td>0</td>\n",
       "      <td>0</td>\n",
       "      <td>0</td>\n",
       "      <td>0</td>\n",
       "      <td>0</td>\n",
       "      <td>0</td>\n",
       "      <td>1</td>\n",
       "      <td>1</td>\n",
       "    </tr>\n",
       "    <tr>\n",
       "      <th>...</th>\n",
       "      <td>...</td>\n",
       "      <td>...</td>\n",
       "      <td>...</td>\n",
       "      <td>...</td>\n",
       "      <td>...</td>\n",
       "      <td>...</td>\n",
       "      <td>...</td>\n",
       "      <td>...</td>\n",
       "      <td>...</td>\n",
       "      <td>...</td>\n",
       "      <td>...</td>\n",
       "      <td>...</td>\n",
       "      <td>...</td>\n",
       "      <td>...</td>\n",
       "      <td>...</td>\n",
       "      <td>...</td>\n",
       "      <td>...</td>\n",
       "      <td>...</td>\n",
       "      <td>...</td>\n",
       "      <td>...</td>\n",
       "      <td>...</td>\n",
       "    </tr>\n",
       "    <tr>\n",
       "      <th>233149</th>\n",
       "      <td>626432</td>\n",
       "      <td>63213</td>\n",
       "      <td>105405</td>\n",
       "      <td>60.72</td>\n",
       "      <td>34</td>\n",
       "      <td>20700</td>\n",
       "      <td>48</td>\n",
       "      <td>1050</td>\n",
       "      <td>1/8/1988</td>\n",
       "      <td>Salaried</td>\n",
       "      <td>...</td>\n",
       "      <td>735</td>\n",
       "      <td>D-Very Low Risk</td>\n",
       "      <td>4</td>\n",
       "      <td>3</td>\n",
       "      <td>0</td>\n",
       "      <td>390443</td>\n",
       "      <td>416133</td>\n",
       "      <td>416133</td>\n",
       "      <td>0</td>\n",
       "      <td>0</td>\n",
       "    </tr>\n",
       "    <tr>\n",
       "      <th>233150</th>\n",
       "      <td>606141</td>\n",
       "      <td>73651</td>\n",
       "      <td>100600</td>\n",
       "      <td>74.95</td>\n",
       "      <td>34</td>\n",
       "      <td>23775</td>\n",
       "      <td>51</td>\n",
       "      <td>990</td>\n",
       "      <td>5/12/1988</td>\n",
       "      <td>Self employed</td>\n",
       "      <td>...</td>\n",
       "      <td>825</td>\n",
       "      <td>A-Very Low Risk</td>\n",
       "      <td>1</td>\n",
       "      <td>0</td>\n",
       "      <td>0</td>\n",
       "      <td>0</td>\n",
       "      <td>0</td>\n",
       "      <td>0</td>\n",
       "      <td>0</td>\n",
       "      <td>0</td>\n",
       "    </tr>\n",
       "    <tr>\n",
       "      <th>233151</th>\n",
       "      <td>613658</td>\n",
       "      <td>33484</td>\n",
       "      <td>71212</td>\n",
       "      <td>48.45</td>\n",
       "      <td>77</td>\n",
       "      <td>22186</td>\n",
       "      <td>86</td>\n",
       "      <td>2299</td>\n",
       "      <td>1/6/1976</td>\n",
       "      <td>Salaried</td>\n",
       "      <td>...</td>\n",
       "      <td>0</td>\n",
       "      <td>No Bureau History Available</td>\n",
       "      <td>0</td>\n",
       "      <td>0</td>\n",
       "      <td>0</td>\n",
       "      <td>0</td>\n",
       "      <td>0</td>\n",
       "      <td>0</td>\n",
       "      <td>0</td>\n",
       "      <td>0</td>\n",
       "    </tr>\n",
       "    <tr>\n",
       "      <th>233152</th>\n",
       "      <td>548084</td>\n",
       "      <td>34259</td>\n",
       "      <td>73286</td>\n",
       "      <td>49.10</td>\n",
       "      <td>77</td>\n",
       "      <td>22186</td>\n",
       "      <td>86</td>\n",
       "      <td>2299</td>\n",
       "      <td>26-03-94</td>\n",
       "      <td>Salaried</td>\n",
       "      <td>...</td>\n",
       "      <td>0</td>\n",
       "      <td>No Bureau History Available</td>\n",
       "      <td>0</td>\n",
       "      <td>0</td>\n",
       "      <td>0</td>\n",
       "      <td>0</td>\n",
       "      <td>0</td>\n",
       "      <td>0</td>\n",
       "      <td>0</td>\n",
       "      <td>0</td>\n",
       "    </tr>\n",
       "    <tr>\n",
       "      <th>233153</th>\n",
       "      <td>630213</td>\n",
       "      <td>75751</td>\n",
       "      <td>116009</td>\n",
       "      <td>66.81</td>\n",
       "      <td>77</td>\n",
       "      <td>22186</td>\n",
       "      <td>86</td>\n",
       "      <td>2299</td>\n",
       "      <td>18-02-84</td>\n",
       "      <td>Salaried</td>\n",
       "      <td>...</td>\n",
       "      <td>0</td>\n",
       "      <td>No Bureau History Available</td>\n",
       "      <td>0</td>\n",
       "      <td>0</td>\n",
       "      <td>0</td>\n",
       "      <td>0</td>\n",
       "      <td>0</td>\n",
       "      <td>0</td>\n",
       "      <td>0</td>\n",
       "      <td>0</td>\n",
       "    </tr>\n",
       "  </tbody>\n",
       "</table>\n",
       "<p>233154 rows × 29 columns</p>\n",
       "</div>"
      ],
      "text/plain": [
       "        UniqueID  disbursed_amount  asset_cost    ltv  branch_id  supplier_id  \\\n",
       "0         420825             50578       58400  89.55         67        22807   \n",
       "1         537409             47145       65550  73.23         67        22807   \n",
       "2         417566             53278       61360  89.63         67        22807   \n",
       "3         624493             57513       66113  88.48         67        22807   \n",
       "4         539055             52378       60300  88.39         67        22807   \n",
       "...          ...               ...         ...    ...        ...          ...   \n",
       "233149    626432             63213      105405  60.72         34        20700   \n",
       "233150    606141             73651      100600  74.95         34        23775   \n",
       "233151    613658             33484       71212  48.45         77        22186   \n",
       "233152    548084             34259       73286  49.10         77        22186   \n",
       "233153    630213             75751      116009  66.81         77        22186   \n",
       "\n",
       "        manufacturer_id  Current_pincode_ID Date.of.Birth Employment.Type  \\\n",
       "0                    45                1441      1/1/1984        Salaried   \n",
       "1                    45                1502      31-07-85   Self employed   \n",
       "2                    45                1497      24-08-85   Self employed   \n",
       "3                    45                1501      30-12-93   Self employed   \n",
       "4                    45                1495     9/12/1977   Self employed   \n",
       "...                 ...                 ...           ...             ...   \n",
       "233149               48                1050      1/8/1988        Salaried   \n",
       "233150               51                 990     5/12/1988   Self employed   \n",
       "233151               86                2299      1/6/1976        Salaried   \n",
       "233152               86                2299      26-03-94        Salaried   \n",
       "233153               86                2299      18-02-84        Salaried   \n",
       "\n",
       "        ... PERFORM_CNS.SCORE  PERFORM_CNS.SCORE.DESCRIPTION  PRI.NO.OF.ACCTS  \\\n",
       "0       ...                 0    No Bureau History Available                0   \n",
       "1       ...               598                  I-Medium Risk                1   \n",
       "2       ...                 0    No Bureau History Available                0   \n",
       "3       ...               305               L-Very High Risk                3   \n",
       "4       ...                 0    No Bureau History Available                0   \n",
       "...     ...               ...                            ...              ...   \n",
       "233149  ...               735                D-Very Low Risk                4   \n",
       "233150  ...               825                A-Very Low Risk                1   \n",
       "233151  ...                 0    No Bureau History Available                0   \n",
       "233152  ...                 0    No Bureau History Available                0   \n",
       "233153  ...                 0    No Bureau History Available                0   \n",
       "\n",
       "        PRI.ACTIVE.ACCTS  PRI.OVERDUE.ACCTS  PRI.CURRENT.BALANCE  \\\n",
       "0                      0                  0                    0   \n",
       "1                      1                  1                27600   \n",
       "2                      0                  0                    0   \n",
       "3                      0                  0                    0   \n",
       "4                      0                  0                    0   \n",
       "...                  ...                ...                  ...   \n",
       "233149                 3                  0               390443   \n",
       "233150                 0                  0                    0   \n",
       "233151                 0                  0                    0   \n",
       "233152                 0                  0                    0   \n",
       "233153                 0                  0                    0   \n",
       "\n",
       "        PRI.SANCTIONED.AMOUNT  PRI.DISBURSED.AMOUNT  NO.OF_INQUIRIES  \\\n",
       "0                           0                     0                0   \n",
       "1                       50200                 50200                0   \n",
       "2                           0                     0                0   \n",
       "3                           0                     0                1   \n",
       "4                           0                     0                1   \n",
       "...                       ...                   ...              ...   \n",
       "233149                 416133                416133                0   \n",
       "233150                      0                     0                0   \n",
       "233151                      0                     0                0   \n",
       "233152                      0                     0                0   \n",
       "233153                      0                     0                0   \n",
       "\n",
       "        loan_default  \n",
       "0                  0  \n",
       "1                  1  \n",
       "2                  0  \n",
       "3                  1  \n",
       "4                  1  \n",
       "...              ...  \n",
       "233149             0  \n",
       "233150             0  \n",
       "233151             0  \n",
       "233152             0  \n",
       "233153             0  \n",
       "\n",
       "[233154 rows x 29 columns]"
      ]
     },
     "execution_count": 12,
     "metadata": {},
     "output_type": "execute_result"
    }
   ],
   "source": [
    "df\n",
    "# df.head(100)\n",
    "\n",
    "# df.columns.shape"
   ]
  },
  {
   "cell_type": "code",
   "execution_count": 17,
   "id": "e7653070",
   "metadata": {
    "ExecuteTime": {
     "end_time": "2021-07-21T07:30:55.297581Z",
     "start_time": "2021-07-21T07:30:55.277404Z"
    }
   },
   "outputs": [
    {
     "data": {
      "text/plain": [
       "0    182543\n",
       "1     50611\n",
       "Name: loan_default, dtype: int64"
      ]
     },
     "execution_count": 17,
     "metadata": {},
     "output_type": "execute_result"
    }
   ],
   "source": [
    "df.loan_default.value_counts()\n",
    "# df.manufacturer_id.value_counts()\n",
    "# df.UniqueID .value_counts()"
   ]
  },
  {
   "cell_type": "code",
   "execution_count": 8,
   "id": "66bf4d9c",
   "metadata": {
    "ExecuteTime": {
     "end_time": "2021-07-21T07:21:38.462126Z",
     "start_time": "2021-07-21T07:21:38.451651Z"
    }
   },
   "outputs": [
    {
     "data": {
      "text/plain": [
       "UniqueID                           int64\n",
       "disbursed_amount                   int64\n",
       "asset_cost                         int64\n",
       "ltv                              float64\n",
       "branch_id                          int64\n",
       "supplier_id                        int64\n",
       "manufacturer_id                    int64\n",
       "Current_pincode_ID                 int64\n",
       "Date.of.Birth                     object\n",
       "Employment.Type                   object\n",
       "DisbursalDate                     object\n",
       "State_ID                           int64\n",
       "Employee_code_ID                   int64\n",
       "MobileNo_Avl_Flag                  int64\n",
       "Aadhar_flag                        int64\n",
       "PAN_flag                           int64\n",
       "VoterID_flag                       int64\n",
       "Driving_flag                       int64\n",
       "Passport_flag                      int64\n",
       "PERFORM_CNS.SCORE                  int64\n",
       "PERFORM_CNS.SCORE.DESCRIPTION     object\n",
       "PRI.NO.OF.ACCTS                    int64\n",
       "PRI.ACTIVE.ACCTS                   int64\n",
       "PRI.OVERDUE.ACCTS                  int64\n",
       "PRI.CURRENT.BALANCE                int64\n",
       "PRI.SANCTIONED.AMOUNT              int64\n",
       "PRI.DISBURSED.AMOUNT               int64\n",
       "NO.OF_INQUIRIES                    int64\n",
       "loan_default                       int64\n",
       "dtype: object"
      ]
     },
     "execution_count": 8,
     "metadata": {},
     "output_type": "execute_result"
    }
   ],
   "source": [
    "df.dtypes "
   ]
  },
  {
   "cell_type": "code",
   "execution_count": 15,
   "id": "36d0d349",
   "metadata": {
    "ExecuteTime": {
     "end_time": "2021-07-21T07:23:59.005284Z",
     "start_time": "2021-07-21T07:23:58.999353Z"
    }
   },
   "outputs": [
    {
     "data": {
      "text/plain": [
       "str"
      ]
     },
     "execution_count": 15,
     "metadata": {},
     "output_type": "execute_result"
    }
   ],
   "source": [
    "type(df[\"PERFORM_CNS.SCORE.DESCRIPTION\"][0])"
   ]
  },
  {
   "cell_type": "code",
   "execution_count": 19,
   "id": "ac200f63",
   "metadata": {
    "ExecuteTime": {
     "end_time": "2021-07-21T07:34:10.158088Z",
     "start_time": "2021-07-21T07:34:10.148314Z"
    }
   },
   "outputs": [
    {
     "data": {
      "text/plain": [
       "0.5840517426250461"
      ]
     },
     "execution_count": 19,
     "metadata": {},
     "output_type": "execute_result"
    }
   ],
   "source": [
    "(df[\"PRI.OVERDUE.ACCTS\"] == df.loan_default).sum()/len(df)\n",
    "# (df[\"PRI.OVERDUE.ACCTS\"] == df[\"PRI.SANCTIONED.AMOUNT\"]).sum()/len(df)"
   ]
  },
  {
   "cell_type": "code",
   "execution_count": 28,
   "id": "6fdb62a4",
   "metadata": {
    "ExecuteTime": {
     "end_time": "2021-07-21T07:35:35.306953Z",
     "start_time": "2021-07-21T07:35:35.289216Z"
    }
   },
   "outputs": [
    {
     "ename": "ValueError",
     "evalue": "The truth value of a Series is ambiguous. Use a.empty, a.bool(), a.item(), a.any() or a.all().",
     "output_type": "error",
     "traceback": [
      "\u001b[0;31m---------------------------------------------------------------------------\u001b[0m",
      "\u001b[0;31mValueError\u001b[0m                                Traceback (most recent call last)",
      "\u001b[0;32m<ipython-input-28-d9d2d72c817e>\u001b[0m in \u001b[0;36m<module>\u001b[0;34m\u001b[0m\n\u001b[0;32m----> 1\u001b[0;31m \u001b[0mdf\u001b[0m\u001b[0;34m.\u001b[0m\u001b[0mloc\u001b[0m\u001b[0;34m[\u001b[0m\u001b[0;34m(\u001b[0m\u001b[0mdf\u001b[0m\u001b[0;34m[\u001b[0m\u001b[0;34m\"PRI.OVERDUE.ACCTS\"\u001b[0m\u001b[0;34m]\u001b[0m \u001b[0;34m==\u001b[0m \u001b[0;36m1\u001b[0m\u001b[0;34m)\u001b[0m \u001b[0;32mand\u001b[0m \u001b[0;34m(\u001b[0m\u001b[0mdf\u001b[0m\u001b[0;34m.\u001b[0m\u001b[0mloan_default\u001b[0m\u001b[0;34m==\u001b[0m\u001b[0;36m1\u001b[0m\u001b[0;34m)\u001b[0m\u001b[0;34m]\u001b[0m\u001b[0;34m\u001b[0m\u001b[0;34m\u001b[0m\u001b[0m\n\u001b[0m",
      "\u001b[0;32m/opt/homebrew/anaconda3/envs/condaenv/lib/python3.9/site-packages/pandas/core/generic.py\u001b[0m in \u001b[0;36m__nonzero__\u001b[0;34m(self)\u001b[0m\n\u001b[1;32m   1440\u001b[0m     \u001b[0;34m@\u001b[0m\u001b[0mfinal\u001b[0m\u001b[0;34m\u001b[0m\u001b[0;34m\u001b[0m\u001b[0m\n\u001b[1;32m   1441\u001b[0m     \u001b[0;32mdef\u001b[0m \u001b[0m__nonzero__\u001b[0m\u001b[0;34m(\u001b[0m\u001b[0mself\u001b[0m\u001b[0;34m)\u001b[0m\u001b[0;34m:\u001b[0m\u001b[0;34m\u001b[0m\u001b[0;34m\u001b[0m\u001b[0m\n\u001b[0;32m-> 1442\u001b[0;31m         raise ValueError(\n\u001b[0m\u001b[1;32m   1443\u001b[0m             \u001b[0;34mf\"The truth value of a {type(self).__name__} is ambiguous. \"\u001b[0m\u001b[0;34m\u001b[0m\u001b[0;34m\u001b[0m\u001b[0m\n\u001b[1;32m   1444\u001b[0m             \u001b[0;34m\"Use a.empty, a.bool(), a.item(), a.any() or a.all().\"\u001b[0m\u001b[0;34m\u001b[0m\u001b[0;34m\u001b[0m\u001b[0m\n",
      "\u001b[0;31mValueError\u001b[0m: The truth value of a Series is ambiguous. Use a.empty, a.bool(), a.item(), a.any() or a.all()."
     ]
    }
   ],
   "source": [
    "df.loc[(df[\"PRI.OVERDUE.ACCTS\"] == 1) and (df.loan_default==1)]"
   ]
  },
  {
   "cell_type": "code",
   "execution_count": 29,
   "id": "e3378549",
   "metadata": {
    "ExecuteTime": {
     "end_time": "2021-07-21T07:36:21.155586Z",
     "start_time": "2021-07-21T07:36:20.115707Z"
    }
   },
   "outputs": [],
   "source": [
    "from sklearn.metrics import confusion_matrix"
   ]
  },
  {
   "cell_type": "code",
   "execution_count": 75,
   "id": "54f3e13b",
   "metadata": {
    "ExecuteTime": {
     "end_time": "2021-07-21T07:56:44.890497Z",
     "start_time": "2021-07-21T07:56:44.879637Z"
    }
   },
   "outputs": [
    {
     "data": {
      "text/plain": [
       "0          1/1/1984\n",
       "1          31-07-85\n",
       "2          24-08-85\n",
       "3          30-12-93\n",
       "4         9/12/1977\n",
       "            ...    \n",
       "233149     1/8/1988\n",
       "233150    5/12/1988\n",
       "233151     1/6/1976\n",
       "233152     26-03-94\n",
       "233153     18-02-84\n",
       "Name: Date.of.Birth, Length: 233154, dtype: object"
      ]
     },
     "execution_count": 75,
     "metadata": {},
     "output_type": "execute_result"
    }
   ],
   "source": [
    "df[\"Date.of.Birth\"]"
   ]
  },
  {
   "cell_type": "code",
   "execution_count": 24,
   "id": "f1431909",
   "metadata": {
    "ExecuteTime": {
     "end_time": "2021-07-21T07:56:57.908286Z",
     "start_time": "2021-07-21T07:56:57.904581Z"
    }
   },
   "outputs": [],
   "source": [
    "from datetime import datetime"
   ]
  },
  {
   "cell_type": "code",
   "execution_count": 25,
   "id": "bee54cee",
   "metadata": {
    "ExecuteTime": {
     "end_time": "2021-07-21T08:01:45.640906Z",
     "start_time": "2021-07-21T08:01:45.637103Z"
    }
   },
   "outputs": [
    {
     "name": "stdout",
     "output_type": "stream",
     "text": [
      "1984-01-01 00:00:00\n"
     ]
    }
   ],
   "source": [
    "print(datetime.strptime(\"1/1/1984\", '%d/%m/%Y'))"
   ]
  },
  {
   "cell_type": "code",
   "execution_count": 26,
   "id": "2c6b1929",
   "metadata": {
    "ExecuteTime": {
     "end_time": "2021-07-21T08:46:12.401232Z",
     "start_time": "2021-07-21T08:46:12.392829Z"
    }
   },
   "outputs": [],
   "source": [
    "date = datetime.strptime(\"1/1/1984\", '%d/%m/%Y')"
   ]
  },
  {
   "cell_type": "code",
   "execution_count": 201,
   "id": "f524067d",
   "metadata": {
    "ExecuteTime": {
     "end_time": "2021-07-21T08:46:42.478586Z",
     "start_time": "2021-07-21T08:46:42.469569Z"
    }
   },
   "outputs": [
    {
     "data": {
      "text/plain": [
       "['__add__',\n",
       " '__class__',\n",
       " '__delattr__',\n",
       " '__dir__',\n",
       " '__doc__',\n",
       " '__eq__',\n",
       " '__format__',\n",
       " '__ge__',\n",
       " '__getattribute__',\n",
       " '__gt__',\n",
       " '__hash__',\n",
       " '__init__',\n",
       " '__init_subclass__',\n",
       " '__le__',\n",
       " '__lt__',\n",
       " '__ne__',\n",
       " '__new__',\n",
       " '__radd__',\n",
       " '__reduce__',\n",
       " '__reduce_ex__',\n",
       " '__repr__',\n",
       " '__rsub__',\n",
       " '__setattr__',\n",
       " '__sizeof__',\n",
       " '__str__',\n",
       " '__sub__',\n",
       " '__subclasshook__',\n",
       " 'astimezone',\n",
       " 'combine',\n",
       " 'ctime',\n",
       " 'date',\n",
       " 'day',\n",
       " 'dst',\n",
       " 'fold',\n",
       " 'fromisocalendar',\n",
       " 'fromisoformat',\n",
       " 'fromordinal',\n",
       " 'fromtimestamp',\n",
       " 'hour',\n",
       " 'isocalendar',\n",
       " 'isoformat',\n",
       " 'isoweekday',\n",
       " 'max',\n",
       " 'microsecond',\n",
       " 'min',\n",
       " 'minute',\n",
       " 'month',\n",
       " 'now',\n",
       " 'replace',\n",
       " 'resolution',\n",
       " 'second',\n",
       " 'strftime',\n",
       " 'strptime',\n",
       " 'time',\n",
       " 'timestamp',\n",
       " 'timetuple',\n",
       " 'timetz',\n",
       " 'today',\n",
       " 'toordinal',\n",
       " 'tzinfo',\n",
       " 'tzname',\n",
       " 'utcfromtimestamp',\n",
       " 'utcnow',\n",
       " 'utcoffset',\n",
       " 'utctimetuple',\n",
       " 'weekday',\n",
       " 'year']"
      ]
     },
     "execution_count": 201,
     "metadata": {},
     "output_type": "execute_result"
    }
   ],
   "source": [
    "dir(date)"
   ]
  },
  {
   "cell_type": "code",
   "execution_count": 80,
   "id": "2f086ba3",
   "metadata": {
    "ExecuteTime": {
     "end_time": "2021-07-21T08:04:29.800056Z",
     "start_time": "2021-07-21T08:04:29.796297Z"
    }
   },
   "outputs": [],
   "source": [
    "a = 5"
   ]
  },
  {
   "cell_type": "code",
   "execution_count": 82,
   "id": "39d64949",
   "metadata": {
    "ExecuteTime": {
     "end_time": "2021-07-21T08:04:36.915201Z",
     "start_time": "2021-07-21T08:04:36.908225Z"
    }
   },
   "outputs": [
    {
     "data": {
      "text/plain": [
       "'5 sfs'"
      ]
     },
     "execution_count": 82,
     "metadata": {},
     "output_type": "execute_result"
    }
   ],
   "source": [
    "\"{} sfs\".format(a)"
   ]
  },
  {
   "cell_type": "code",
   "execution_count": 27,
   "id": "f22b742f",
   "metadata": {
    "ExecuteTime": {
     "end_time": "2021-07-21T08:19:01.226338Z",
     "start_time": "2021-07-21T08:19:01.220728Z"
    }
   },
   "outputs": [],
   "source": [
    "def parser(text):\n",
    "    for fmt in ('%d-%m-%Y', '%d-%m-%y', '%d.%m.%Y', '%d/%m/%Y'):\n",
    "        try:\n",
    "            date = datetime.strptime(text, fmt)\n",
    "            if data.year > 2004:\n",
    "                data.year -= 100\n",
    "                return \n",
    "        except ValueError:\n",
    "            pass\n",
    "    raise ValueError(\"No valid date format found\")"
   ]
  },
  {
   "cell_type": "code",
   "execution_count": 28,
   "id": "70bd20c1",
   "metadata": {
    "ExecuteTime": {
     "end_time": "2021-07-21T08:19:01.904937Z",
     "start_time": "2021-07-21T08:19:01.898947Z"
    }
   },
   "outputs": [
    {
     "data": {
      "text/plain": [
       "(233154,)"
      ]
     },
     "execution_count": 28,
     "metadata": {},
     "output_type": "execute_result"
    }
   ],
   "source": [
    "df.loan_default.values.shape"
   ]
  },
  {
   "cell_type": "code",
   "execution_count": 29,
   "id": "474d077e",
   "metadata": {
    "ExecuteTime": {
     "end_time": "2021-07-21T08:19:05.912711Z",
     "start_time": "2021-07-21T08:19:02.061446Z"
    }
   },
   "outputs": [
    {
     "ename": "NameError",
     "evalue": "name 'data' is not defined",
     "output_type": "error",
     "traceback": [
      "\u001b[1;31m---------------------------------------------------------------------------\u001b[0m",
      "\u001b[1;31mTypeError\u001b[0m                                 Traceback (most recent call last)",
      "\u001b[1;32m~\\anaconda3\\envs\\AI_M1\\lib\\site-packages\\pandas\\io\\parsers.py\u001b[0m in \u001b[0;36mconverter\u001b[1;34m(*date_cols)\u001b[0m\n\u001b[0;32m   3297\u001b[0m                 result = tools.to_datetime(\n\u001b[1;32m-> 3298\u001b[1;33m                     \u001b[0mdate_parser\u001b[0m\u001b[1;33m(\u001b[0m\u001b[1;33m*\u001b[0m\u001b[0mdate_cols\u001b[0m\u001b[1;33m)\u001b[0m\u001b[1;33m,\u001b[0m \u001b[0merrors\u001b[0m\u001b[1;33m=\u001b[0m\u001b[1;34m\"ignore\"\u001b[0m\u001b[1;33m,\u001b[0m \u001b[0mcache\u001b[0m\u001b[1;33m=\u001b[0m\u001b[0mcache_dates\u001b[0m\u001b[1;33m\u001b[0m\u001b[1;33m\u001b[0m\u001b[0m\n\u001b[0m\u001b[0;32m   3299\u001b[0m                 )\n",
      "\u001b[1;32m<ipython-input-27-7507ba2893cd>\u001b[0m in \u001b[0;36mparser\u001b[1;34m(text)\u001b[0m\n\u001b[0;32m      3\u001b[0m         \u001b[1;32mtry\u001b[0m\u001b[1;33m:\u001b[0m\u001b[1;33m\u001b[0m\u001b[1;33m\u001b[0m\u001b[0m\n\u001b[1;32m----> 4\u001b[1;33m             \u001b[0mdate\u001b[0m \u001b[1;33m=\u001b[0m \u001b[0mdatetime\u001b[0m\u001b[1;33m.\u001b[0m\u001b[0mstrptime\u001b[0m\u001b[1;33m(\u001b[0m\u001b[0mtext\u001b[0m\u001b[1;33m,\u001b[0m \u001b[0mfmt\u001b[0m\u001b[1;33m)\u001b[0m\u001b[1;33m\u001b[0m\u001b[1;33m\u001b[0m\u001b[0m\n\u001b[0m\u001b[0;32m      5\u001b[0m             \u001b[1;32mif\u001b[0m \u001b[0mdata\u001b[0m\u001b[1;33m.\u001b[0m\u001b[0myear\u001b[0m \u001b[1;33m>\u001b[0m \u001b[1;36m2004\u001b[0m\u001b[1;33m:\u001b[0m\u001b[1;33m\u001b[0m\u001b[1;33m\u001b[0m\u001b[0m\n",
      "\u001b[1;31mTypeError\u001b[0m: strptime() argument 1 must be str, not numpy.ndarray",
      "\nDuring handling of the above exception, another exception occurred:\n",
      "\u001b[1;31mNameError\u001b[0m                                 Traceback (most recent call last)",
      "\u001b[1;32m~\\anaconda3\\envs\\AI_M1\\lib\\site-packages\\pandas\\io\\parsers.py\u001b[0m in \u001b[0;36mconverter\u001b[1;34m(*date_cols)\u001b[0m\n\u001b[0;32m   3305\u001b[0m                     return tools.to_datetime(\n\u001b[1;32m-> 3306\u001b[1;33m                         parsing.try_parse_dates(\n\u001b[0m\u001b[0;32m   3307\u001b[0m                             \u001b[0mparsing\u001b[0m\u001b[1;33m.\u001b[0m\u001b[0mconcat_date_cols\u001b[0m\u001b[1;33m(\u001b[0m\u001b[0mdate_cols\u001b[0m\u001b[1;33m)\u001b[0m\u001b[1;33m,\u001b[0m\u001b[1;33m\u001b[0m\u001b[1;33m\u001b[0m\u001b[0m\n",
      "\u001b[1;32mpandas\\_libs\\tslibs\\parsing.pyx\u001b[0m in \u001b[0;36mpandas._libs.tslibs.parsing.try_parse_dates\u001b[1;34m()\u001b[0m\n",
      "\u001b[1;32m<ipython-input-27-7507ba2893cd>\u001b[0m in \u001b[0;36mparser\u001b[1;34m(text)\u001b[0m\n\u001b[0;32m      4\u001b[0m             \u001b[0mdate\u001b[0m \u001b[1;33m=\u001b[0m \u001b[0mdatetime\u001b[0m\u001b[1;33m.\u001b[0m\u001b[0mstrptime\u001b[0m\u001b[1;33m(\u001b[0m\u001b[0mtext\u001b[0m\u001b[1;33m,\u001b[0m \u001b[0mfmt\u001b[0m\u001b[1;33m)\u001b[0m\u001b[1;33m\u001b[0m\u001b[1;33m\u001b[0m\u001b[0m\n\u001b[1;32m----> 5\u001b[1;33m             \u001b[1;32mif\u001b[0m \u001b[0mdata\u001b[0m\u001b[1;33m.\u001b[0m\u001b[0myear\u001b[0m \u001b[1;33m>\u001b[0m \u001b[1;36m2004\u001b[0m\u001b[1;33m:\u001b[0m\u001b[1;33m\u001b[0m\u001b[1;33m\u001b[0m\u001b[0m\n\u001b[0m\u001b[0;32m      6\u001b[0m                 \u001b[0mdata\u001b[0m\u001b[1;33m.\u001b[0m\u001b[0myear\u001b[0m \u001b[1;33m-=\u001b[0m \u001b[1;36m100\u001b[0m\u001b[1;33m\u001b[0m\u001b[1;33m\u001b[0m\u001b[0m\n",
      "\u001b[1;31mNameError\u001b[0m: name 'data' is not defined",
      "\nDuring handling of the above exception, another exception occurred:\n",
      "\u001b[1;31mNameError\u001b[0m                                 Traceback (most recent call last)",
      "\u001b[1;32m<ipython-input-29-870dca75182b>\u001b[0m in \u001b[0;36m<module>\u001b[1;34m\u001b[0m\n\u001b[1;32m----> 1\u001b[1;33m \u001b[0mdf2\u001b[0m \u001b[1;33m=\u001b[0m \u001b[0mpd\u001b[0m\u001b[1;33m.\u001b[0m\u001b[0mread_csv\u001b[0m\u001b[1;33m(\u001b[0m\u001b[1;34m\"data/train_sample.csv\"\u001b[0m\u001b[1;33m,\u001b[0m \u001b[0mparse_dates\u001b[0m\u001b[1;33m=\u001b[0m\u001b[1;33m[\u001b[0m\u001b[1;34m\"Date.of.Birth\"\u001b[0m\u001b[1;33m]\u001b[0m\u001b[1;33m,\u001b[0m \u001b[0mdate_parser\u001b[0m\u001b[1;33m=\u001b[0m\u001b[0mparser\u001b[0m\u001b[1;33m)\u001b[0m\u001b[1;33m\u001b[0m\u001b[1;33m\u001b[0m\u001b[0m\n\u001b[0m",
      "\u001b[1;32m~\\anaconda3\\envs\\AI_M1\\lib\\site-packages\\pandas\\io\\parsers.py\u001b[0m in \u001b[0;36mread_csv\u001b[1;34m(filepath_or_buffer, sep, delimiter, header, names, index_col, usecols, squeeze, prefix, mangle_dupe_cols, dtype, engine, converters, true_values, false_values, skipinitialspace, skiprows, skipfooter, nrows, na_values, keep_default_na, na_filter, verbose, skip_blank_lines, parse_dates, infer_datetime_format, keep_date_col, date_parser, dayfirst, cache_dates, iterator, chunksize, compression, thousands, decimal, lineterminator, quotechar, quoting, doublequote, escapechar, comment, encoding, dialect, error_bad_lines, warn_bad_lines, delim_whitespace, low_memory, memory_map, float_precision, storage_options)\u001b[0m\n\u001b[0;32m    608\u001b[0m     \u001b[0mkwds\u001b[0m\u001b[1;33m.\u001b[0m\u001b[0mupdate\u001b[0m\u001b[1;33m(\u001b[0m\u001b[0mkwds_defaults\u001b[0m\u001b[1;33m)\u001b[0m\u001b[1;33m\u001b[0m\u001b[1;33m\u001b[0m\u001b[0m\n\u001b[0;32m    609\u001b[0m \u001b[1;33m\u001b[0m\u001b[0m\n\u001b[1;32m--> 610\u001b[1;33m     \u001b[1;32mreturn\u001b[0m \u001b[0m_read\u001b[0m\u001b[1;33m(\u001b[0m\u001b[0mfilepath_or_buffer\u001b[0m\u001b[1;33m,\u001b[0m \u001b[0mkwds\u001b[0m\u001b[1;33m)\u001b[0m\u001b[1;33m\u001b[0m\u001b[1;33m\u001b[0m\u001b[0m\n\u001b[0m\u001b[0;32m    611\u001b[0m \u001b[1;33m\u001b[0m\u001b[0m\n\u001b[0;32m    612\u001b[0m \u001b[1;33m\u001b[0m\u001b[0m\n",
      "\u001b[1;32m~\\anaconda3\\envs\\AI_M1\\lib\\site-packages\\pandas\\io\\parsers.py\u001b[0m in \u001b[0;36m_read\u001b[1;34m(filepath_or_buffer, kwds)\u001b[0m\n\u001b[0;32m    466\u001b[0m \u001b[1;33m\u001b[0m\u001b[0m\n\u001b[0;32m    467\u001b[0m     \u001b[1;32mwith\u001b[0m \u001b[0mparser\u001b[0m\u001b[1;33m:\u001b[0m\u001b[1;33m\u001b[0m\u001b[1;33m\u001b[0m\u001b[0m\n\u001b[1;32m--> 468\u001b[1;33m         \u001b[1;32mreturn\u001b[0m \u001b[0mparser\u001b[0m\u001b[1;33m.\u001b[0m\u001b[0mread\u001b[0m\u001b[1;33m(\u001b[0m\u001b[0mnrows\u001b[0m\u001b[1;33m)\u001b[0m\u001b[1;33m\u001b[0m\u001b[1;33m\u001b[0m\u001b[0m\n\u001b[0m\u001b[0;32m    469\u001b[0m \u001b[1;33m\u001b[0m\u001b[0m\n\u001b[0;32m    470\u001b[0m \u001b[1;33m\u001b[0m\u001b[0m\n",
      "\u001b[1;32m~\\anaconda3\\envs\\AI_M1\\lib\\site-packages\\pandas\\io\\parsers.py\u001b[0m in \u001b[0;36mread\u001b[1;34m(self, nrows)\u001b[0m\n\u001b[0;32m   1055\u001b[0m     \u001b[1;32mdef\u001b[0m \u001b[0mread\u001b[0m\u001b[1;33m(\u001b[0m\u001b[0mself\u001b[0m\u001b[1;33m,\u001b[0m \u001b[0mnrows\u001b[0m\u001b[1;33m=\u001b[0m\u001b[1;32mNone\u001b[0m\u001b[1;33m)\u001b[0m\u001b[1;33m:\u001b[0m\u001b[1;33m\u001b[0m\u001b[1;33m\u001b[0m\u001b[0m\n\u001b[0;32m   1056\u001b[0m         \u001b[0mnrows\u001b[0m \u001b[1;33m=\u001b[0m \u001b[0mvalidate_integer\u001b[0m\u001b[1;33m(\u001b[0m\u001b[1;34m\"nrows\"\u001b[0m\u001b[1;33m,\u001b[0m \u001b[0mnrows\u001b[0m\u001b[1;33m)\u001b[0m\u001b[1;33m\u001b[0m\u001b[1;33m\u001b[0m\u001b[0m\n\u001b[1;32m-> 1057\u001b[1;33m         \u001b[0mindex\u001b[0m\u001b[1;33m,\u001b[0m \u001b[0mcolumns\u001b[0m\u001b[1;33m,\u001b[0m \u001b[0mcol_dict\u001b[0m \u001b[1;33m=\u001b[0m \u001b[0mself\u001b[0m\u001b[1;33m.\u001b[0m\u001b[0m_engine\u001b[0m\u001b[1;33m.\u001b[0m\u001b[0mread\u001b[0m\u001b[1;33m(\u001b[0m\u001b[0mnrows\u001b[0m\u001b[1;33m)\u001b[0m\u001b[1;33m\u001b[0m\u001b[1;33m\u001b[0m\u001b[0m\n\u001b[0m\u001b[0;32m   1058\u001b[0m \u001b[1;33m\u001b[0m\u001b[0m\n\u001b[0;32m   1059\u001b[0m         \u001b[1;32mif\u001b[0m \u001b[0mindex\u001b[0m \u001b[1;32mis\u001b[0m \u001b[1;32mNone\u001b[0m\u001b[1;33m:\u001b[0m\u001b[1;33m\u001b[0m\u001b[1;33m\u001b[0m\u001b[0m\n",
      "\u001b[1;32m~\\anaconda3\\envs\\AI_M1\\lib\\site-packages\\pandas\\io\\parsers.py\u001b[0m in \u001b[0;36mread\u001b[1;34m(self, nrows)\u001b[0m\n\u001b[0;32m   2111\u001b[0m             \u001b[0mdata\u001b[0m \u001b[1;33m=\u001b[0m \u001b[1;33m{\u001b[0m\u001b[0mk\u001b[0m\u001b[1;33m:\u001b[0m \u001b[0mv\u001b[0m \u001b[1;32mfor\u001b[0m \u001b[0mk\u001b[0m\u001b[1;33m,\u001b[0m \u001b[1;33m(\u001b[0m\u001b[0mi\u001b[0m\u001b[1;33m,\u001b[0m \u001b[0mv\u001b[0m\u001b[1;33m)\u001b[0m \u001b[1;32min\u001b[0m \u001b[0mzip\u001b[0m\u001b[1;33m(\u001b[0m\u001b[0mnames\u001b[0m\u001b[1;33m,\u001b[0m \u001b[0mdata\u001b[0m\u001b[1;33m)\u001b[0m\u001b[1;33m}\u001b[0m\u001b[1;33m\u001b[0m\u001b[1;33m\u001b[0m\u001b[0m\n\u001b[0;32m   2112\u001b[0m \u001b[1;33m\u001b[0m\u001b[0m\n\u001b[1;32m-> 2113\u001b[1;33m             \u001b[0mnames\u001b[0m\u001b[1;33m,\u001b[0m \u001b[0mdata\u001b[0m \u001b[1;33m=\u001b[0m \u001b[0mself\u001b[0m\u001b[1;33m.\u001b[0m\u001b[0m_do_date_conversions\u001b[0m\u001b[1;33m(\u001b[0m\u001b[0mnames\u001b[0m\u001b[1;33m,\u001b[0m \u001b[0mdata\u001b[0m\u001b[1;33m)\u001b[0m\u001b[1;33m\u001b[0m\u001b[1;33m\u001b[0m\u001b[0m\n\u001b[0m\u001b[0;32m   2114\u001b[0m             \u001b[0mindex\u001b[0m\u001b[1;33m,\u001b[0m \u001b[0mnames\u001b[0m \u001b[1;33m=\u001b[0m \u001b[0mself\u001b[0m\u001b[1;33m.\u001b[0m\u001b[0m_make_index\u001b[0m\u001b[1;33m(\u001b[0m\u001b[0mdata\u001b[0m\u001b[1;33m,\u001b[0m \u001b[0malldata\u001b[0m\u001b[1;33m,\u001b[0m \u001b[0mnames\u001b[0m\u001b[1;33m)\u001b[0m\u001b[1;33m\u001b[0m\u001b[1;33m\u001b[0m\u001b[0m\n\u001b[0;32m   2115\u001b[0m \u001b[1;33m\u001b[0m\u001b[0m\n",
      "\u001b[1;32m~\\anaconda3\\envs\\AI_M1\\lib\\site-packages\\pandas\\io\\parsers.py\u001b[0m in \u001b[0;36m_do_date_conversions\u001b[1;34m(self, names, data)\u001b[0m\n\u001b[0;32m   1837\u001b[0m \u001b[1;33m\u001b[0m\u001b[0m\n\u001b[0;32m   1838\u001b[0m         \u001b[1;32mif\u001b[0m \u001b[0mself\u001b[0m\u001b[1;33m.\u001b[0m\u001b[0mparse_dates\u001b[0m \u001b[1;32mis\u001b[0m \u001b[1;32mnot\u001b[0m \u001b[1;32mNone\u001b[0m\u001b[1;33m:\u001b[0m\u001b[1;33m\u001b[0m\u001b[1;33m\u001b[0m\u001b[0m\n\u001b[1;32m-> 1839\u001b[1;33m             data, names = _process_date_conversion(\n\u001b[0m\u001b[0;32m   1840\u001b[0m                 \u001b[0mdata\u001b[0m\u001b[1;33m,\u001b[0m\u001b[1;33m\u001b[0m\u001b[1;33m\u001b[0m\u001b[0m\n\u001b[0;32m   1841\u001b[0m                 \u001b[0mself\u001b[0m\u001b[1;33m.\u001b[0m\u001b[0m_date_conv\u001b[0m\u001b[1;33m,\u001b[0m\u001b[1;33m\u001b[0m\u001b[1;33m\u001b[0m\u001b[0m\n",
      "\u001b[1;32m~\\anaconda3\\envs\\AI_M1\\lib\\site-packages\\pandas\\io\\parsers.py\u001b[0m in \u001b[0;36m_process_date_conversion\u001b[1;34m(data_dict, converter, parse_spec, index_col, index_names, columns, keep_date_col)\u001b[0m\n\u001b[0;32m   3350\u001b[0m                 \u001b[1;32mif\u001b[0m \u001b[0m_isindex\u001b[0m\u001b[1;33m(\u001b[0m\u001b[0mcolspec\u001b[0m\u001b[1;33m)\u001b[0m\u001b[1;33m:\u001b[0m\u001b[1;33m\u001b[0m\u001b[1;33m\u001b[0m\u001b[0m\n\u001b[0;32m   3351\u001b[0m                     \u001b[1;32mcontinue\u001b[0m\u001b[1;33m\u001b[0m\u001b[1;33m\u001b[0m\u001b[0m\n\u001b[1;32m-> 3352\u001b[1;33m                 \u001b[0mdata_dict\u001b[0m\u001b[1;33m[\u001b[0m\u001b[0mcolspec\u001b[0m\u001b[1;33m]\u001b[0m \u001b[1;33m=\u001b[0m \u001b[0mconverter\u001b[0m\u001b[1;33m(\u001b[0m\u001b[0mdata_dict\u001b[0m\u001b[1;33m[\u001b[0m\u001b[0mcolspec\u001b[0m\u001b[1;33m]\u001b[0m\u001b[1;33m)\u001b[0m\u001b[1;33m\u001b[0m\u001b[1;33m\u001b[0m\u001b[0m\n\u001b[0m\u001b[0;32m   3353\u001b[0m             \u001b[1;32melse\u001b[0m\u001b[1;33m:\u001b[0m\u001b[1;33m\u001b[0m\u001b[1;33m\u001b[0m\u001b[0m\n\u001b[0;32m   3354\u001b[0m                 new_name, col, old_names = _try_convert_dates(\n",
      "\u001b[1;32m~\\anaconda3\\envs\\AI_M1\\lib\\site-packages\\pandas\\io\\parsers.py\u001b[0m in \u001b[0;36mconverter\u001b[1;34m(*date_cols)\u001b[0m\n\u001b[0;32m   3312\u001b[0m                     )\n\u001b[0;32m   3313\u001b[0m                 \u001b[1;32mexcept\u001b[0m \u001b[0mException\u001b[0m\u001b[1;33m:\u001b[0m\u001b[1;33m\u001b[0m\u001b[1;33m\u001b[0m\u001b[0m\n\u001b[1;32m-> 3314\u001b[1;33m                     \u001b[1;32mreturn\u001b[0m \u001b[0mgeneric_parser\u001b[0m\u001b[1;33m(\u001b[0m\u001b[0mdate_parser\u001b[0m\u001b[1;33m,\u001b[0m \u001b[1;33m*\u001b[0m\u001b[0mdate_cols\u001b[0m\u001b[1;33m)\u001b[0m\u001b[1;33m\u001b[0m\u001b[1;33m\u001b[0m\u001b[0m\n\u001b[0m\u001b[0;32m   3315\u001b[0m \u001b[1;33m\u001b[0m\u001b[0m\n\u001b[0;32m   3316\u001b[0m     \u001b[1;32mreturn\u001b[0m \u001b[0mconverter\u001b[0m\u001b[1;33m\u001b[0m\u001b[1;33m\u001b[0m\u001b[0m\n",
      "\u001b[1;32m~\\anaconda3\\envs\\AI_M1\\lib\\site-packages\\pandas\\io\\date_converters.py\u001b[0m in \u001b[0;36mgeneric_parser\u001b[1;34m(parse_func, *cols)\u001b[0m\n\u001b[0;32m     98\u001b[0m     \u001b[1;32mfor\u001b[0m \u001b[0mi\u001b[0m \u001b[1;32min\u001b[0m \u001b[0mrange\u001b[0m\u001b[1;33m(\u001b[0m\u001b[0mN\u001b[0m\u001b[1;33m)\u001b[0m\u001b[1;33m:\u001b[0m\u001b[1;33m\u001b[0m\u001b[1;33m\u001b[0m\u001b[0m\n\u001b[0;32m     99\u001b[0m         \u001b[0margs\u001b[0m \u001b[1;33m=\u001b[0m \u001b[1;33m[\u001b[0m\u001b[0mc\u001b[0m\u001b[1;33m[\u001b[0m\u001b[0mi\u001b[0m\u001b[1;33m]\u001b[0m \u001b[1;32mfor\u001b[0m \u001b[0mc\u001b[0m \u001b[1;32min\u001b[0m \u001b[0mcols\u001b[0m\u001b[1;33m]\u001b[0m\u001b[1;33m\u001b[0m\u001b[1;33m\u001b[0m\u001b[0m\n\u001b[1;32m--> 100\u001b[1;33m         \u001b[0mresults\u001b[0m\u001b[1;33m[\u001b[0m\u001b[0mi\u001b[0m\u001b[1;33m]\u001b[0m \u001b[1;33m=\u001b[0m \u001b[0mparse_func\u001b[0m\u001b[1;33m(\u001b[0m\u001b[1;33m*\u001b[0m\u001b[0margs\u001b[0m\u001b[1;33m)\u001b[0m\u001b[1;33m\u001b[0m\u001b[1;33m\u001b[0m\u001b[0m\n\u001b[0m\u001b[0;32m    101\u001b[0m \u001b[1;33m\u001b[0m\u001b[0m\n\u001b[0;32m    102\u001b[0m     \u001b[1;32mreturn\u001b[0m \u001b[0mresults\u001b[0m\u001b[1;33m\u001b[0m\u001b[1;33m\u001b[0m\u001b[0m\n",
      "\u001b[1;32m<ipython-input-27-7507ba2893cd>\u001b[0m in \u001b[0;36mparser\u001b[1;34m(text)\u001b[0m\n\u001b[0;32m      3\u001b[0m         \u001b[1;32mtry\u001b[0m\u001b[1;33m:\u001b[0m\u001b[1;33m\u001b[0m\u001b[1;33m\u001b[0m\u001b[0m\n\u001b[0;32m      4\u001b[0m             \u001b[0mdate\u001b[0m \u001b[1;33m=\u001b[0m \u001b[0mdatetime\u001b[0m\u001b[1;33m.\u001b[0m\u001b[0mstrptime\u001b[0m\u001b[1;33m(\u001b[0m\u001b[0mtext\u001b[0m\u001b[1;33m,\u001b[0m \u001b[0mfmt\u001b[0m\u001b[1;33m)\u001b[0m\u001b[1;33m\u001b[0m\u001b[1;33m\u001b[0m\u001b[0m\n\u001b[1;32m----> 5\u001b[1;33m             \u001b[1;32mif\u001b[0m \u001b[0mdata\u001b[0m\u001b[1;33m.\u001b[0m\u001b[0myear\u001b[0m \u001b[1;33m>\u001b[0m \u001b[1;36m2004\u001b[0m\u001b[1;33m:\u001b[0m\u001b[1;33m\u001b[0m\u001b[1;33m\u001b[0m\u001b[0m\n\u001b[0m\u001b[0;32m      6\u001b[0m                 \u001b[0mdata\u001b[0m\u001b[1;33m.\u001b[0m\u001b[0myear\u001b[0m \u001b[1;33m-=\u001b[0m \u001b[1;36m100\u001b[0m\u001b[1;33m\u001b[0m\u001b[1;33m\u001b[0m\u001b[0m\n\u001b[0;32m      7\u001b[0m                 \u001b[1;32mreturn\u001b[0m\u001b[1;33m\u001b[0m\u001b[1;33m\u001b[0m\u001b[0m\n",
      "\u001b[1;31mNameError\u001b[0m: name 'data' is not defined"
     ]
    }
   ],
   "source": [
    "df2 = pd.read_csv(\"data/train_sample.csv\", parse_dates=[\"Date.of.Birth\"], date_parser=parser)"
   ]
  },
  {
   "cell_type": "code",
   "execution_count": 96,
   "id": "207dcec2",
   "metadata": {
    "ExecuteTime": {
     "end_time": "2021-07-21T08:12:56.489830Z",
     "start_time": "2021-07-21T08:12:56.454522Z"
    }
   },
   "outputs": [
    {
     "data": {
      "text/html": [
       "<div>\n",
       "<style scoped>\n",
       "    .dataframe tbody tr th:only-of-type {\n",
       "        vertical-align: middle;\n",
       "    }\n",
       "\n",
       "    .dataframe tbody tr th {\n",
       "        vertical-align: top;\n",
       "    }\n",
       "\n",
       "    .dataframe thead th {\n",
       "        text-align: right;\n",
       "    }\n",
       "</style>\n",
       "<table border=\"1\" class=\"dataframe\">\n",
       "  <thead>\n",
       "    <tr style=\"text-align: right;\">\n",
       "      <th></th>\n",
       "      <th>UniqueID</th>\n",
       "      <th>disbursed_amount</th>\n",
       "      <th>asset_cost</th>\n",
       "      <th>ltv</th>\n",
       "      <th>branch_id</th>\n",
       "      <th>supplier_id</th>\n",
       "      <th>manufacturer_id</th>\n",
       "      <th>Current_pincode_ID</th>\n",
       "      <th>Date.of.Birth</th>\n",
       "      <th>Employment.Type</th>\n",
       "      <th>...</th>\n",
       "      <th>PERFORM_CNS.SCORE</th>\n",
       "      <th>PERFORM_CNS.SCORE.DESCRIPTION</th>\n",
       "      <th>PRI.NO.OF.ACCTS</th>\n",
       "      <th>PRI.ACTIVE.ACCTS</th>\n",
       "      <th>PRI.OVERDUE.ACCTS</th>\n",
       "      <th>PRI.CURRENT.BALANCE</th>\n",
       "      <th>PRI.SANCTIONED.AMOUNT</th>\n",
       "      <th>PRI.DISBURSED.AMOUNT</th>\n",
       "      <th>NO.OF_INQUIRIES</th>\n",
       "      <th>loan_default</th>\n",
       "    </tr>\n",
       "  </thead>\n",
       "  <tbody>\n",
       "    <tr>\n",
       "      <th>232708</th>\n",
       "      <td>635420</td>\n",
       "      <td>63454</td>\n",
       "      <td>84578</td>\n",
       "      <td>79.93</td>\n",
       "      <td>78</td>\n",
       "      <td>17078</td>\n",
       "      <td>120</td>\n",
       "      <td>2069</td>\n",
       "      <td>2062-03-24</td>\n",
       "      <td>Self employed</td>\n",
       "      <td>...</td>\n",
       "      <td>18</td>\n",
       "      <td>Not Scored: No Updates available in last 36 mo...</td>\n",
       "      <td>1</td>\n",
       "      <td>1</td>\n",
       "      <td>0</td>\n",
       "      <td>0</td>\n",
       "      <td>771</td>\n",
       "      <td>771</td>\n",
       "      <td>0</td>\n",
       "      <td>1</td>\n",
       "    </tr>\n",
       "  </tbody>\n",
       "</table>\n",
       "<p>1 rows × 29 columns</p>\n",
       "</div>"
      ],
      "text/plain": [
       "        UniqueID  disbursed_amount  asset_cost    ltv  branch_id  supplier_id  \\\n",
       "232708    635420             63454       84578  79.93         78        17078   \n",
       "\n",
       "        manufacturer_id  Current_pincode_ID Date.of.Birth Employment.Type  \\\n",
       "232708              120                2069    2062-03-24   Self employed   \n",
       "\n",
       "        ... PERFORM_CNS.SCORE  \\\n",
       "232708  ...                18   \n",
       "\n",
       "                            PERFORM_CNS.SCORE.DESCRIPTION  PRI.NO.OF.ACCTS  \\\n",
       "232708  Not Scored: No Updates available in last 36 mo...                1   \n",
       "\n",
       "        PRI.ACTIVE.ACCTS  PRI.OVERDUE.ACCTS  PRI.CURRENT.BALANCE  \\\n",
       "232708                 1                  0                    0   \n",
       "\n",
       "        PRI.SANCTIONED.AMOUNT  PRI.DISBURSED.AMOUNT  NO.OF_INQUIRIES  \\\n",
       "232708                    771                   771                0   \n",
       "\n",
       "        loan_default  \n",
       "232708             1  \n",
       "\n",
       "[1 rows x 29 columns]"
      ]
     },
     "execution_count": 96,
     "metadata": {},
     "output_type": "execute_result"
    }
   ],
   "source": [
    "df2.loc[df2[\"Date.of.Birth\"] ==\"2062-03-24T00:00:00.000000000\"]"
   ]
  },
  {
   "cell_type": "code",
   "execution_count": 97,
   "id": "66ae140b",
   "metadata": {
    "ExecuteTime": {
     "end_time": "2021-07-21T08:13:13.884338Z",
     "start_time": "2021-07-21T08:13:13.872303Z"
    }
   },
   "outputs": [
    {
     "data": {
      "text/plain": [
       "UniqueID                                                                    635420\n",
       "disbursed_amount                                                             63454\n",
       "asset_cost                                                                   84578\n",
       "ltv                                                                          79.93\n",
       "branch_id                                                                       78\n",
       "supplier_id                                                                  17078\n",
       "manufacturer_id                                                                120\n",
       "Current_pincode_ID                                                            2069\n",
       "Date.of.Birth                                                             24-03-62\n",
       "Employment.Type                                                      Self employed\n",
       "DisbursalDate                                                             29-10-18\n",
       "State_ID                                                                         4\n",
       "Employee_code_ID                                                              2622\n",
       "MobileNo_Avl_Flag                                                                1\n",
       "Aadhar_flag                                                                      1\n",
       "PAN_flag                                                                         0\n",
       "VoterID_flag                                                                     0\n",
       "Driving_flag                                                                     0\n",
       "Passport_flag                                                                    0\n",
       "PERFORM_CNS.SCORE                                                               18\n",
       "PERFORM_CNS.SCORE.DESCRIPTION    Not Scored: No Updates available in last 36 mo...\n",
       "PRI.NO.OF.ACCTS                                                                  1\n",
       "PRI.ACTIVE.ACCTS                                                                 1\n",
       "PRI.OVERDUE.ACCTS                                                                0\n",
       "PRI.CURRENT.BALANCE                                                              0\n",
       "PRI.SANCTIONED.AMOUNT                                                          771\n",
       "PRI.DISBURSED.AMOUNT                                                           771\n",
       "NO.OF_INQUIRIES                                                                  0\n",
       "loan_default                                                                     1\n",
       "Name: 232708, dtype: object"
      ]
     },
     "execution_count": 97,
     "metadata": {},
     "output_type": "execute_result"
    }
   ],
   "source": [
    "df.iloc[232708]"
   ]
  },
  {
   "cell_type": "code",
   "execution_count": 89,
   "id": "b8fbce8a",
   "metadata": {
    "ExecuteTime": {
     "end_time": "2021-07-21T08:10:04.719163Z",
     "start_time": "2021-07-21T08:10:04.709519Z"
    }
   },
   "outputs": [
    {
     "data": {
      "text/plain": [
       "0          1/1/1984\n",
       "1          31-07-85\n",
       "2          24-08-85\n",
       "3          30-12-93\n",
       "4         9/12/1977\n",
       "            ...    \n",
       "233149     1/8/1988\n",
       "233150    5/12/1988\n",
       "233151     1/6/1976\n",
       "233152     26-03-94\n",
       "233153     18-02-84\n",
       "Name: Date.of.Birth, Length: 233154, dtype: object"
      ]
     },
     "execution_count": 89,
     "metadata": {},
     "output_type": "execute_result"
    }
   ],
   "source": [
    "df[\"Date.of.Birth\"]"
   ]
  },
  {
   "cell_type": "code",
   "execution_count": 37,
   "id": "ecd09c16",
   "metadata": {
    "ExecuteTime": {
     "end_time": "2021-07-21T07:39:04.388872Z",
     "start_time": "2021-07-21T07:39:04.382896Z"
    }
   },
   "outputs": [
    {
     "data": {
      "text/plain": [
       "(233154,)"
      ]
     },
     "execution_count": 37,
     "metadata": {},
     "output_type": "execute_result"
    }
   ],
   "source": [
    "df[\"PRI.OVERDUE.ACCTS\"].values.shape"
   ]
  },
  {
   "cell_type": "code",
   "execution_count": 48,
   "id": "307a394e",
   "metadata": {
    "ExecuteTime": {
     "end_time": "2021-07-21T07:41:30.550917Z",
     "start_time": "2021-07-21T07:41:30.547254Z"
    }
   },
   "outputs": [],
   "source": [
    "a = df[\"PRI.OVERDUE.ACCTS\"].iloc[:100].values"
   ]
  },
  {
   "cell_type": "code",
   "execution_count": 49,
   "id": "afa82a50",
   "metadata": {
    "ExecuteTime": {
     "end_time": "2021-07-21T07:41:32.836218Z",
     "start_time": "2021-07-21T07:41:32.832514Z"
    }
   },
   "outputs": [],
   "source": [
    "b = df.loan_default.iloc[:100].values"
   ]
  },
  {
   "cell_type": "code",
   "execution_count": 50,
   "id": "490c71cd",
   "metadata": {
    "ExecuteTime": {
     "end_time": "2021-07-21T07:41:33.089098Z",
     "start_time": "2021-07-21T07:41:33.081882Z"
    }
   },
   "outputs": [
    {
     "data": {
      "text/plain": [
       "array([[61, 27,  0,  0],\n",
       "       [ 4,  5,  0,  0],\n",
       "       [ 2,  0,  0,  0],\n",
       "       [ 0,  1,  0,  0]])"
      ]
     },
     "execution_count": 50,
     "metadata": {},
     "output_type": "execute_result"
    }
   ],
   "source": [
    "confusion_matrix(a,b)"
   ]
  },
  {
   "cell_type": "code",
   "execution_count": 51,
   "id": "e12547bc",
   "metadata": {
    "ExecuteTime": {
     "end_time": "2021-07-21T07:41:57.619146Z",
     "start_time": "2021-07-21T07:41:57.606785Z"
    }
   },
   "outputs": [
    {
     "data": {
      "text/plain": [
       "array([0, 1])"
      ]
     },
     "execution_count": 51,
     "metadata": {},
     "output_type": "execute_result"
    }
   ],
   "source": [
    "df.loan_default.unique()"
   ]
  },
  {
   "cell_type": "code",
   "execution_count": 52,
   "id": "12c7ace7",
   "metadata": {
    "ExecuteTime": {
     "end_time": "2021-07-21T07:42:03.668285Z",
     "start_time": "2021-07-21T07:42:03.659236Z"
    }
   },
   "outputs": [
    {
     "data": {
      "text/plain": [
       "array([ 0,  1,  3,  2, 14,  4,  5,  8,  6,  7,  9, 18, 13, 11, 12, 17, 10,\n",
       "       23, 19, 15, 16, 25])"
      ]
     },
     "execution_count": 52,
     "metadata": {},
     "output_type": "execute_result"
    }
   ],
   "source": [
    "df[\"PRI.OVERDUE.ACCTS\"].unique()"
   ]
  },
  {
   "cell_type": "code",
   "execution_count": 56,
   "id": "1fc1b9b0",
   "metadata": {
    "ExecuteTime": {
     "end_time": "2021-07-21T07:44:40.755005Z",
     "start_time": "2021-07-21T07:44:39.878951Z"
    }
   },
   "outputs": [
    {
     "data": {
      "text/plain": [
       "<AxesSubplot:>"
      ]
     },
     "execution_count": 56,
     "metadata": {},
     "output_type": "execute_result"
    },
    {
     "data": {
      "image/png": "[encoded data removed]",
      "text/plain": [
       "<Figure size 432x288 with 1 Axes>"
      ]
     },
     "metadata": {
      "needs_background": "light"
     },
     "output_type": "display_data"
    }
   ],
   "source": [
    "df.ltv.hist(bins=1000)"
   ]
  },
  {
   "cell_type": "code",
   "execution_count": 63,
   "id": "143a20af",
   "metadata": {
    "ExecuteTime": {
     "end_time": "2021-07-21T07:51:26.263208Z",
     "start_time": "2021-07-21T07:51:18.354378Z"
    }
   },
   "outputs": [
    {
     "data": {
      "text/plain": [
       "<AxesSubplot:>"
      ]
     },
     "execution_count": 63,
     "metadata": {},
     "output_type": "execute_result"
    },
    {
     "data": {
      "image/png": "[encoded data removed]",
      "text/plain": [
       "<Figure size 432x288 with 1 Axes>"
      ]
     },
     "metadata": {
      "needs_background": "light"
     },
     "output_type": "display_data"
    }
   ],
   "source": [
    "df.asset_cost.hist(bins=10000)"
   ]
  },
  {
   "cell_type": "code",
   "execution_count": 64,
   "id": "a2032c29",
   "metadata": {
    "ExecuteTime": {
     "end_time": "2021-07-21T07:52:31.852023Z",
     "start_time": "2021-07-21T07:52:31.843721Z"
    }
   },
   "outputs": [
    {
     "data": {
      "text/plain": [
       "0          58400\n",
       "1          65550\n",
       "2          61360\n",
       "3          66113\n",
       "4          60300\n",
       "           ...  \n",
       "233149    105405\n",
       "233150    100600\n",
       "233151     71212\n",
       "233152     73286\n",
       "233153    116009\n",
       "Name: asset_cost, Length: 233154, dtype: int64"
      ]
     },
     "execution_count": 64,
     "metadata": {},
     "output_type": "execute_result"
    }
   ],
   "source": [
    "df.asset_cost"
   ]
  },
  {
   "cell_type": "code",
   "execution_count": 68,
   "id": "fb1fa968",
   "metadata": {
    "ExecuteTime": {
     "end_time": "2021-07-21T07:53:46.695635Z",
     "start_time": "2021-07-21T07:53:46.205803Z"
    }
   },
   "outputs": [
    {
     "data": {
      "text/plain": [
       "<AxesSubplot:>"
      ]
     },
     "execution_count": 68,
     "metadata": {},
     "output_type": "execute_result"
    },
    {
     "data": {
      "image/png": "[encoded data removed]",
      "text/plain": [
       "<Figure size 432x288 with 1 Axes>"
      ]
     },
     "metadata": {
      "needs_background": "light"
     },
     "output_type": "display_data"
    }
   ],
   "source": [
    "df.asset_cost[df.asset_cost<0.2*1000000].hist(bins=100)"
   ]
  },
  {
   "cell_type": "code",
   "execution_count": 72,
   "id": "8617e3eb",
   "metadata": {
    "ExecuteTime": {
     "end_time": "2021-07-21T07:55:02.625137Z",
     "start_time": "2021-07-21T07:55:02.617853Z"
    }
   },
   "outputs": [],
   "source": [
    "asset_cost = df.asset_cost[df.asset_cost<0.2*1000000]"
   ]
  },
  {
   "cell_type": "code",
   "execution_count": null,
   "id": "e00f0f90",
   "metadata": {},
   "outputs": [],
   "source": []
  },
  {
   "cell_type": "code",
   "execution_count": 61,
   "id": "99ff1c38",
   "metadata": {
    "ExecuteTime": {
     "end_time": "2021-07-21T07:49:39.799309Z",
     "start_time": "2021-07-21T07:49:39.507942Z"
    }
   },
   "outputs": [
    {
     "data": {
      "text/plain": [
       "<AxesSubplot:>"
      ]
     },
     "execution_count": 61,
     "metadata": {},
     "output_type": "execute_result"
    },
    {
     "data": {
      "image/png": "[encoded data removed]",
      "text/plain": [
       "<Figure size 432x288 with 1 Axes>"
      ]
     },
     "metadata": {
      "needs_background": "light"
     },
     "output_type": "display_data"
    }
   ],
   "source": [
    "df.boxplot(column=\"asset_cost\")"
   ]
  },
  {
   "cell_type": "code",
   "execution_count": 62,
   "id": "38135e44",
   "metadata": {
    "ExecuteTime": {
     "end_time": "2021-07-21T07:50:03.526548Z",
     "start_time": "2021-07-21T07:50:03.221279Z"
    }
   },
   "outputs": [
    {
     "data": {
      "text/plain": [
       "<AxesSubplot:>"
      ]
     },
     "execution_count": 62,
     "metadata": {},
     "output_type": "execute_result"
    },
    {
     "data": {
      "image/png": "[encoded data removed]",
      "text/plain": [
       "<Figure size 432x288 with 1 Axes>"
      ]
     },
     "metadata": {
      "needs_background": "light"
     },
     "output_type": "display_data"
    }
   ],
   "source": [
    "df.boxplot(column=\"ltv\")"
   ]
  },
  {
   "cell_type": "code",
   "execution_count": 110,
   "id": "51ef2ced",
   "metadata": {
    "ExecuteTime": {
     "end_time": "2021-07-21T08:20:14.601439Z",
     "start_time": "2021-07-21T08:20:13.772425Z"
    }
   },
   "outputs": [],
   "source": [
    "import seaborn as sns"
   ]
  },
  {
   "cell_type": "code",
   "execution_count": 111,
   "id": "7a0c829d",
   "metadata": {
    "ExecuteTime": {
     "end_time": "2021-07-21T08:20:46.382269Z",
     "start_time": "2021-07-21T08:20:46.274137Z"
    }
   },
   "outputs": [
    {
     "data": {
      "text/plain": [
       "<AxesSubplot:xlabel='ltv'>"
      ]
     },
     "execution_count": 111,
     "metadata": {},
     "output_type": "execute_result"
    },
    {
     "data": {
      "image/png": "[encoded data removed]",
      "text/plain": [
       "<Figure size 432x288 with 1 Axes>"
      ]
     },
     "metadata": {
      "needs_background": "light"
     },
     "output_type": "display_data"
    }
   ],
   "source": [
    "sns.boxplot(x=df.ltv)"
   ]
  },
  {
   "cell_type": "code",
   "execution_count": 20,
   "id": "ceef61e5",
   "metadata": {
    "ExecuteTime": {
     "end_time": "2021-07-21T08:51:44.163248Z",
     "start_time": "2021-07-21T08:51:44.058653Z"
    }
   },
   "outputs": [
    {
     "ename": "NameError",
     "evalue": "name 'df2' is not defined",
     "output_type": "error",
     "traceback": [
      "\u001b[1;31m---------------------------------------------------------------------------\u001b[0m",
      "\u001b[1;31mNameError\u001b[0m                                 Traceback (most recent call last)",
      "\u001b[1;32m<ipython-input-20-1fceac95d0cd>\u001b[0m in \u001b[0;36m<module>\u001b[1;34m\u001b[0m\n\u001b[0;32m      8\u001b[0m \u001b[1;31m# df2[\"year_of_birth\"] = df2[\"Date.of.Birth\"].apply(extract_year)\u001b[0m\u001b[1;33m\u001b[0m\u001b[1;33m\u001b[0m\u001b[1;33m\u001b[0m\u001b[0m\n\u001b[0;32m      9\u001b[0m \u001b[1;31m# df2[\"year_of_birth\"] = df2[\"Date.of.Birth\"].apply(lambda x: int(str(x)[:4]))\u001b[0m\u001b[1;33m\u001b[0m\u001b[1;33m\u001b[0m\u001b[1;33m\u001b[0m\u001b[0m\n\u001b[1;32m---> 10\u001b[1;33m \u001b[0mdf2\u001b[0m\u001b[1;33m.\u001b[0m\u001b[0myear_of_birth\u001b[0m \u001b[1;33m=\u001b[0m \u001b[0mdf2\u001b[0m\u001b[1;33m.\u001b[0m\u001b[0myear_of_birth\u001b[0m\u001b[1;33m.\u001b[0m\u001b[0mapply\u001b[0m\u001b[1;33m(\u001b[0m\u001b[0mcheck_years\u001b[0m\u001b[1;33m)\u001b[0m\u001b[1;33m\u001b[0m\u001b[1;33m\u001b[0m\u001b[0m\n\u001b[0m",
      "\u001b[1;31mNameError\u001b[0m: name 'df2' is not defined"
     ]
    }
   ],
   "source": [
    "def extract_year(x):\n",
    "    return str(x)[:4]\n",
    "def check_years(x):\n",
    "    if x >= 2004:\n",
    "        return x - 100\n",
    "    else:\n",
    "        return x\n",
    "# df2[\"year_of_birth\"] = df2[\"Date.of.Birth\"].apply(extract_year)\n",
    "# df2[\"year_of_birth\"] = df2[\"Date.of.Birth\"].apply(lambda x: int(str(x)[:4]))\n",
    "df2.year_of_birth = df2.year_of_birth.apply(check_years)"
   ]
  },
  {
   "cell_type": "code",
   "execution_count": 206,
   "id": "0a7069d9",
   "metadata": {
    "ExecuteTime": {
     "end_time": "2021-07-21T08:51:50.637607Z",
     "start_time": "2021-07-21T08:51:50.629323Z"
    }
   },
   "outputs": [
    {
     "data": {
      "text/plain": [
       "2000"
      ]
     },
     "execution_count": 206,
     "metadata": {},
     "output_type": "execute_result"
    }
   ],
   "source": [
    "df2.year_of_birth.max()"
   ]
  },
  {
   "cell_type": "code",
   "execution_count": 124,
   "id": "c70f80c2",
   "metadata": {
    "ExecuteTime": {
     "end_time": "2021-07-21T08:25:59.793921Z",
     "start_time": "2021-07-21T08:25:59.790797Z"
    }
   },
   "outputs": [
    {
     "data": {
      "text/plain": [
       "'1984'"
      ]
     },
     "execution_count": 124,
     "metadata": {},
     "output_type": "execute_result"
    }
   ],
   "source": [
    "str(df2[\"Date.of.Birth\"][0]).split(\"-\")[0]"
   ]
  },
  {
   "cell_type": "code",
   "execution_count": 125,
   "id": "4f90c113",
   "metadata": {
    "ExecuteTime": {
     "end_time": "2021-07-21T08:26:00.593888Z",
     "start_time": "2021-07-21T08:26:00.473733Z"
    }
   },
   "outputs": [
    {
     "data": {
      "text/html": [
       "<div>\n",
       "<style scoped>\n",
       "    .dataframe tbody tr th:only-of-type {\n",
       "        vertical-align: middle;\n",
       "    }\n",
       "\n",
       "    .dataframe tbody tr th {\n",
       "        vertical-align: top;\n",
       "    }\n",
       "\n",
       "    .dataframe thead th {\n",
       "        text-align: right;\n",
       "    }\n",
       "</style>\n",
       "<table border=\"1\" class=\"dataframe\">\n",
       "  <thead>\n",
       "    <tr style=\"text-align: right;\">\n",
       "      <th></th>\n",
       "      <th>UniqueID</th>\n",
       "      <th>disbursed_amount</th>\n",
       "      <th>asset_cost</th>\n",
       "      <th>ltv</th>\n",
       "      <th>branch_id</th>\n",
       "      <th>supplier_id</th>\n",
       "      <th>manufacturer_id</th>\n",
       "      <th>Current_pincode_ID</th>\n",
       "      <th>Date.of.Birth</th>\n",
       "      <th>Employment.Type</th>\n",
       "      <th>...</th>\n",
       "      <th>PERFORM_CNS.SCORE.DESCRIPTION</th>\n",
       "      <th>PRI.NO.OF.ACCTS</th>\n",
       "      <th>PRI.ACTIVE.ACCTS</th>\n",
       "      <th>PRI.OVERDUE.ACCTS</th>\n",
       "      <th>PRI.CURRENT.BALANCE</th>\n",
       "      <th>PRI.SANCTIONED.AMOUNT</th>\n",
       "      <th>PRI.DISBURSED.AMOUNT</th>\n",
       "      <th>NO.OF_INQUIRIES</th>\n",
       "      <th>loan_default</th>\n",
       "      <th>year_of_birth</th>\n",
       "    </tr>\n",
       "  </thead>\n",
       "  <tbody>\n",
       "    <tr>\n",
       "      <th>169</th>\n",
       "      <td>451694</td>\n",
       "      <td>35939</td>\n",
       "      <td>61865</td>\n",
       "      <td>59.00</td>\n",
       "      <td>34</td>\n",
       "      <td>15196</td>\n",
       "      <td>86</td>\n",
       "      <td>1051</td>\n",
       "      <td>1957-06-01</td>\n",
       "      <td>Self employed</td>\n",
       "      <td>...</td>\n",
       "      <td>No Bureau History Available</td>\n",
       "      <td>0</td>\n",
       "      <td>0</td>\n",
       "      <td>0</td>\n",
       "      <td>0</td>\n",
       "      <td>0</td>\n",
       "      <td>0</td>\n",
       "      <td>0</td>\n",
       "      <td>0</td>\n",
       "      <td>1957</td>\n",
       "    </tr>\n",
       "    <tr>\n",
       "      <th>243</th>\n",
       "      <td>537614</td>\n",
       "      <td>22574</td>\n",
       "      <td>48610</td>\n",
       "      <td>47.32</td>\n",
       "      <td>34</td>\n",
       "      <td>23069</td>\n",
       "      <td>51</td>\n",
       "      <td>992</td>\n",
       "      <td>1959-01-01</td>\n",
       "      <td>Self employed</td>\n",
       "      <td>...</td>\n",
       "      <td>A-Very Low Risk</td>\n",
       "      <td>1</td>\n",
       "      <td>0</td>\n",
       "      <td>0</td>\n",
       "      <td>0</td>\n",
       "      <td>0</td>\n",
       "      <td>0</td>\n",
       "      <td>0</td>\n",
       "      <td>0</td>\n",
       "      <td>1959</td>\n",
       "    </tr>\n",
       "    <tr>\n",
       "      <th>263</th>\n",
       "      <td>541538</td>\n",
       "      <td>57859</td>\n",
       "      <td>65368</td>\n",
       "      <td>89.65</td>\n",
       "      <td>130</td>\n",
       "      <td>15218</td>\n",
       "      <td>86</td>\n",
       "      <td>1044</td>\n",
       "      <td>1957-02-01</td>\n",
       "      <td>Self employed</td>\n",
       "      <td>...</td>\n",
       "      <td>C-Very Low Risk</td>\n",
       "      <td>2</td>\n",
       "      <td>1</td>\n",
       "      <td>0</td>\n",
       "      <td>413200</td>\n",
       "      <td>35441</td>\n",
       "      <td>35441</td>\n",
       "      <td>0</td>\n",
       "      <td>0</td>\n",
       "      <td>1957</td>\n",
       "    </tr>\n",
       "    <tr>\n",
       "      <th>271</th>\n",
       "      <td>502648</td>\n",
       "      <td>51073</td>\n",
       "      <td>62115</td>\n",
       "      <td>85.00</td>\n",
       "      <td>130</td>\n",
       "      <td>21081</td>\n",
       "      <td>45</td>\n",
       "      <td>1226</td>\n",
       "      <td>1955-06-01</td>\n",
       "      <td>Self employed</td>\n",
       "      <td>...</td>\n",
       "      <td>No Bureau History Available</td>\n",
       "      <td>0</td>\n",
       "      <td>0</td>\n",
       "      <td>0</td>\n",
       "      <td>0</td>\n",
       "      <td>0</td>\n",
       "      <td>0</td>\n",
       "      <td>0</td>\n",
       "      <td>0</td>\n",
       "      <td>1955</td>\n",
       "    </tr>\n",
       "    <tr>\n",
       "      <th>297</th>\n",
       "      <td>615398</td>\n",
       "      <td>54900</td>\n",
       "      <td>66636</td>\n",
       "      <td>85.00</td>\n",
       "      <td>130</td>\n",
       "      <td>15196</td>\n",
       "      <td>86</td>\n",
       "      <td>1047</td>\n",
       "      <td>1957-05-04</td>\n",
       "      <td>Self employed</td>\n",
       "      <td>...</td>\n",
       "      <td>No Bureau History Available</td>\n",
       "      <td>0</td>\n",
       "      <td>0</td>\n",
       "      <td>0</td>\n",
       "      <td>0</td>\n",
       "      <td>0</td>\n",
       "      <td>0</td>\n",
       "      <td>0</td>\n",
       "      <td>1</td>\n",
       "      <td>1957</td>\n",
       "    </tr>\n",
       "    <tr>\n",
       "      <th>...</th>\n",
       "      <td>...</td>\n",
       "      <td>...</td>\n",
       "      <td>...</td>\n",
       "      <td>...</td>\n",
       "      <td>...</td>\n",
       "      <td>...</td>\n",
       "      <td>...</td>\n",
       "      <td>...</td>\n",
       "      <td>...</td>\n",
       "      <td>...</td>\n",
       "      <td>...</td>\n",
       "      <td>...</td>\n",
       "      <td>...</td>\n",
       "      <td>...</td>\n",
       "      <td>...</td>\n",
       "      <td>...</td>\n",
       "      <td>...</td>\n",
       "      <td>...</td>\n",
       "      <td>...</td>\n",
       "      <td>...</td>\n",
       "      <td>...</td>\n",
       "    </tr>\n",
       "    <tr>\n",
       "      <th>232324</th>\n",
       "      <td>601247</td>\n",
       "      <td>52303</td>\n",
       "      <td>67742</td>\n",
       "      <td>79.71</td>\n",
       "      <td>34</td>\n",
       "      <td>15117</td>\n",
       "      <td>45</td>\n",
       "      <td>1075</td>\n",
       "      <td>1957-09-08</td>\n",
       "      <td>Self employed</td>\n",
       "      <td>...</td>\n",
       "      <td>A-Very Low Risk</td>\n",
       "      <td>2</td>\n",
       "      <td>0</td>\n",
       "      <td>0</td>\n",
       "      <td>0</td>\n",
       "      <td>0</td>\n",
       "      <td>0</td>\n",
       "      <td>1</td>\n",
       "      <td>0</td>\n",
       "      <td>1957</td>\n",
       "    </tr>\n",
       "    <tr>\n",
       "      <th>232334</th>\n",
       "      <td>485333</td>\n",
       "      <td>51144</td>\n",
       "      <td>62438</td>\n",
       "      <td>84.99</td>\n",
       "      <td>34</td>\n",
       "      <td>16310</td>\n",
       "      <td>86</td>\n",
       "      <td>1063</td>\n",
       "      <td>1957-01-01</td>\n",
       "      <td>Self employed</td>\n",
       "      <td>...</td>\n",
       "      <td>No Bureau History Available</td>\n",
       "      <td>0</td>\n",
       "      <td>0</td>\n",
       "      <td>0</td>\n",
       "      <td>0</td>\n",
       "      <td>0</td>\n",
       "      <td>0</td>\n",
       "      <td>0</td>\n",
       "      <td>1</td>\n",
       "      <td>1957</td>\n",
       "    </tr>\n",
       "    <tr>\n",
       "      <th>232400</th>\n",
       "      <td>472151</td>\n",
       "      <td>47845</td>\n",
       "      <td>54580</td>\n",
       "      <td>89.78</td>\n",
       "      <td>74</td>\n",
       "      <td>22928</td>\n",
       "      <td>86</td>\n",
       "      <td>2579</td>\n",
       "      <td>1959-06-01</td>\n",
       "      <td>Self employed</td>\n",
       "      <td>...</td>\n",
       "      <td>Not Scored: Not Enough Info available on the c...</td>\n",
       "      <td>1</td>\n",
       "      <td>1</td>\n",
       "      <td>1</td>\n",
       "      <td>53</td>\n",
       "      <td>53</td>\n",
       "      <td>53</td>\n",
       "      <td>0</td>\n",
       "      <td>0</td>\n",
       "      <td>1959</td>\n",
       "    </tr>\n",
       "    <tr>\n",
       "      <th>232465</th>\n",
       "      <td>536765</td>\n",
       "      <td>53078</td>\n",
       "      <td>89455</td>\n",
       "      <td>61.48</td>\n",
       "      <td>65</td>\n",
       "      <td>23895</td>\n",
       "      <td>145</td>\n",
       "      <td>6816</td>\n",
       "      <td>1958-10-01</td>\n",
       "      <td>Self employed</td>\n",
       "      <td>...</td>\n",
       "      <td>No Bureau History Available</td>\n",
       "      <td>0</td>\n",
       "      <td>0</td>\n",
       "      <td>0</td>\n",
       "      <td>0</td>\n",
       "      <td>0</td>\n",
       "      <td>0</td>\n",
       "      <td>0</td>\n",
       "      <td>0</td>\n",
       "      <td>1958</td>\n",
       "    </tr>\n",
       "    <tr>\n",
       "      <th>232576</th>\n",
       "      <td>538431</td>\n",
       "      <td>65147</td>\n",
       "      <td>74700</td>\n",
       "      <td>89.56</td>\n",
       "      <td>135</td>\n",
       "      <td>23550</td>\n",
       "      <td>86</td>\n",
       "      <td>1631</td>\n",
       "      <td>1957-01-01</td>\n",
       "      <td>Self employed</td>\n",
       "      <td>...</td>\n",
       "      <td>No Bureau History Available</td>\n",
       "      <td>0</td>\n",
       "      <td>0</td>\n",
       "      <td>0</td>\n",
       "      <td>0</td>\n",
       "      <td>0</td>\n",
       "      <td>0</td>\n",
       "      <td>0</td>\n",
       "      <td>0</td>\n",
       "      <td>1957</td>\n",
       "    </tr>\n",
       "  </tbody>\n",
       "</table>\n",
       "<p>1609 rows × 30 columns</p>\n",
       "</div>"
      ],
      "text/plain": [
       "        UniqueID  disbursed_amount  asset_cost    ltv  branch_id  supplier_id  \\\n",
       "169       451694             35939       61865  59.00         34        15196   \n",
       "243       537614             22574       48610  47.32         34        23069   \n",
       "263       541538             57859       65368  89.65        130        15218   \n",
       "271       502648             51073       62115  85.00        130        21081   \n",
       "297       615398             54900       66636  85.00        130        15196   \n",
       "...          ...               ...         ...    ...        ...          ...   \n",
       "232324    601247             52303       67742  79.71         34        15117   \n",
       "232334    485333             51144       62438  84.99         34        16310   \n",
       "232400    472151             47845       54580  89.78         74        22928   \n",
       "232465    536765             53078       89455  61.48         65        23895   \n",
       "232576    538431             65147       74700  89.56        135        23550   \n",
       "\n",
       "        manufacturer_id  Current_pincode_ID Date.of.Birth Employment.Type  \\\n",
       "169                  86                1051    1957-06-01   Self employed   \n",
       "243                  51                 992    1959-01-01   Self employed   \n",
       "263                  86                1044    1957-02-01   Self employed   \n",
       "271                  45                1226    1955-06-01   Self employed   \n",
       "297                  86                1047    1957-05-04   Self employed   \n",
       "...                 ...                 ...           ...             ...   \n",
       "232324               45                1075    1957-09-08   Self employed   \n",
       "232334               86                1063    1957-01-01   Self employed   \n",
       "232400               86                2579    1959-06-01   Self employed   \n",
       "232465              145                6816    1958-10-01   Self employed   \n",
       "232576               86                1631    1957-01-01   Self employed   \n",
       "\n",
       "        ...                      PERFORM_CNS.SCORE.DESCRIPTION  \\\n",
       "169     ...                        No Bureau History Available   \n",
       "243     ...                                    A-Very Low Risk   \n",
       "263     ...                                    C-Very Low Risk   \n",
       "271     ...                        No Bureau History Available   \n",
       "297     ...                        No Bureau History Available   \n",
       "...     ...                                                ...   \n",
       "232324  ...                                    A-Very Low Risk   \n",
       "232334  ...                        No Bureau History Available   \n",
       "232400  ...  Not Scored: Not Enough Info available on the c...   \n",
       "232465  ...                        No Bureau History Available   \n",
       "232576  ...                        No Bureau History Available   \n",
       "\n",
       "        PRI.NO.OF.ACCTS  PRI.ACTIVE.ACCTS  PRI.OVERDUE.ACCTS  \\\n",
       "169                   0                 0                  0   \n",
       "243                   1                 0                  0   \n",
       "263                   2                 1                  0   \n",
       "271                   0                 0                  0   \n",
       "297                   0                 0                  0   \n",
       "...                 ...               ...                ...   \n",
       "232324                2                 0                  0   \n",
       "232334                0                 0                  0   \n",
       "232400                1                 1                  1   \n",
       "232465                0                 0                  0   \n",
       "232576                0                 0                  0   \n",
       "\n",
       "        PRI.CURRENT.BALANCE  PRI.SANCTIONED.AMOUNT  PRI.DISBURSED.AMOUNT  \\\n",
       "169                       0                      0                     0   \n",
       "243                       0                      0                     0   \n",
       "263                  413200                  35441                 35441   \n",
       "271                       0                      0                     0   \n",
       "297                       0                      0                     0   \n",
       "...                     ...                    ...                   ...   \n",
       "232324                    0                      0                     0   \n",
       "232334                    0                      0                     0   \n",
       "232400                   53                     53                    53   \n",
       "232465                    0                      0                     0   \n",
       "232576                    0                      0                     0   \n",
       "\n",
       "        NO.OF_INQUIRIES  loan_default  year_of_birth  \n",
       "169                   0             0           1957  \n",
       "243                   0             0           1959  \n",
       "263                   0             0           1957  \n",
       "271                   0             0           1955  \n",
       "297                   0             1           1957  \n",
       "...                 ...           ...            ...  \n",
       "232324                1             0           1957  \n",
       "232334                0             1           1957  \n",
       "232400                0             0           1959  \n",
       "232465                0             0           1958  \n",
       "232576                0             0           1957  \n",
       "\n",
       "[1609 rows x 30 columns]"
      ]
     },
     "execution_count": 125,
     "metadata": {},
     "output_type": "execute_result"
    }
   ],
   "source": [
    "df2[df2.year_of_birth < 1960]"
   ]
  },
  {
   "cell_type": "code",
   "execution_count": 128,
   "id": "1e5daccd",
   "metadata": {
    "ExecuteTime": {
     "end_time": "2021-07-21T08:29:00.388997Z",
     "start_time": "2021-07-21T08:29:00.157197Z"
    }
   },
   "outputs": [
    {
     "data": {
      "text/plain": [
       "<AxesSubplot:title={'center':'asset_cost'}, xlabel='year_of_birth'>"
      ]
     },
     "execution_count": 128,
     "metadata": {},
     "output_type": "execute_result"
    },
    {
     "data": {
      "image/png": "[encoded data removed]",
      "text/plain": [
       "<Figure size 432x288 with 1 Axes>"
      ]
     },
     "metadata": {
      "needs_background": "light"
     },
     "output_type": "display_data"
    }
   ],
   "source": [
    "df2[df2.year_of_birth < 1970].boxplot(column=\"asset_cost\", by=\"year_of_birth\")"
   ]
  },
  {
   "cell_type": "code",
   "execution_count": 207,
   "id": "b2578592",
   "metadata": {
    "ExecuteTime": {
     "end_time": "2021-07-21T08:52:15.807582Z",
     "start_time": "2021-07-21T08:52:15.763844Z"
    }
   },
   "outputs": [],
   "source": [
    "a = df2.groupby(\"year_of_birth\")[\"loan_default\"].value_counts()"
   ]
  },
  {
   "cell_type": "code",
   "execution_count": 208,
   "id": "4f00ec32",
   "metadata": {
    "ExecuteTime": {
     "end_time": "2021-07-21T08:52:16.144695Z",
     "start_time": "2021-07-21T08:52:16.140020Z"
    }
   },
   "outputs": [],
   "source": [
    "data = pd.DataFrame(a)"
   ]
  },
  {
   "cell_type": "code",
   "execution_count": 209,
   "id": "a37b1df2",
   "metadata": {
    "ExecuteTime": {
     "end_time": "2021-07-21T08:52:16.563736Z",
     "start_time": "2021-07-21T08:52:16.545745Z"
    }
   },
   "outputs": [
    {
     "data": {
      "text/html": [
       "<div>\n",
       "<style scoped>\n",
       "    .dataframe tbody tr th:only-of-type {\n",
       "        vertical-align: middle;\n",
       "    }\n",
       "\n",
       "    .dataframe tbody tr th {\n",
       "        vertical-align: top;\n",
       "    }\n",
       "\n",
       "    .dataframe thead th {\n",
       "        text-align: right;\n",
       "    }\n",
       "</style>\n",
       "<table border=\"1\" class=\"dataframe\">\n",
       "  <thead>\n",
       "    <tr style=\"text-align: right;\">\n",
       "      <th></th>\n",
       "      <th></th>\n",
       "      <th>loan_default</th>\n",
       "    </tr>\n",
       "    <tr>\n",
       "      <th>year_of_birth</th>\n",
       "      <th>loan_default</th>\n",
       "      <th></th>\n",
       "    </tr>\n",
       "  </thead>\n",
       "  <tbody>\n",
       "    <tr>\n",
       "      <th>1949</th>\n",
       "      <th>0</th>\n",
       "      <td>1</td>\n",
       "    </tr>\n",
       "    <tr>\n",
       "      <th rowspan=\"2\" valign=\"top\">1954</th>\n",
       "      <th>0</th>\n",
       "      <td>17</td>\n",
       "    </tr>\n",
       "    <tr>\n",
       "      <th>1</th>\n",
       "      <td>4</td>\n",
       "    </tr>\n",
       "    <tr>\n",
       "      <th rowspan=\"2\" valign=\"top\">1955</th>\n",
       "      <th>0</th>\n",
       "      <td>147</td>\n",
       "    </tr>\n",
       "    <tr>\n",
       "      <th>1</th>\n",
       "      <td>22</td>\n",
       "    </tr>\n",
       "    <tr>\n",
       "      <th>...</th>\n",
       "      <th>...</th>\n",
       "      <td>...</td>\n",
       "    </tr>\n",
       "    <tr>\n",
       "      <th>1998</th>\n",
       "      <th>1</th>\n",
       "      <td>546</td>\n",
       "    </tr>\n",
       "    <tr>\n",
       "      <th rowspan=\"2\" valign=\"top\">1999</th>\n",
       "      <th>0</th>\n",
       "      <td>1221</td>\n",
       "    </tr>\n",
       "    <tr>\n",
       "      <th>1</th>\n",
       "      <td>383</td>\n",
       "    </tr>\n",
       "    <tr>\n",
       "      <th rowspan=\"2\" valign=\"top\">2000</th>\n",
       "      <th>0</th>\n",
       "      <td>463</td>\n",
       "    </tr>\n",
       "    <tr>\n",
       "      <th>1</th>\n",
       "      <td>169</td>\n",
       "    </tr>\n",
       "  </tbody>\n",
       "</table>\n",
       "<p>95 rows × 1 columns</p>\n",
       "</div>"
      ],
      "text/plain": [
       "                            loan_default\n",
       "year_of_birth loan_default              \n",
       "1949          0                        1\n",
       "1954          0                       17\n",
       "              1                        4\n",
       "1955          0                      147\n",
       "              1                       22\n",
       "...                                  ...\n",
       "1998          1                      546\n",
       "1999          0                     1221\n",
       "              1                      383\n",
       "2000          0                      463\n",
       "              1                      169\n",
       "\n",
       "[95 rows x 1 columns]"
      ]
     },
     "execution_count": 209,
     "metadata": {},
     "output_type": "execute_result"
    }
   ],
   "source": [
    "data"
   ]
  },
  {
   "cell_type": "code",
   "execution_count": 210,
   "id": "065280df",
   "metadata": {
    "ExecuteTime": {
     "end_time": "2021-07-21T08:52:17.008366Z",
     "start_time": "2021-07-21T08:52:16.977355Z"
    }
   },
   "outputs": [
    {
     "data": {
      "text/html": [
       "<div>\n",
       "<style scoped>\n",
       "    .dataframe tbody tr th:only-of-type {\n",
       "        vertical-align: middle;\n",
       "    }\n",
       "\n",
       "    .dataframe tbody tr th {\n",
       "        vertical-align: top;\n",
       "    }\n",
       "\n",
       "    .dataframe thead tr th {\n",
       "        text-align: left;\n",
       "    }\n",
       "\n",
       "    .dataframe thead tr:last-of-type th {\n",
       "        text-align: right;\n",
       "    }\n",
       "</style>\n",
       "<table border=\"1\" class=\"dataframe\">\n",
       "  <thead>\n",
       "    <tr>\n",
       "      <th></th>\n",
       "      <th colspan=\"2\" halign=\"left\">loan_default</th>\n",
       "    </tr>\n",
       "    <tr>\n",
       "      <th>loan_default</th>\n",
       "      <th>0</th>\n",
       "      <th>1</th>\n",
       "    </tr>\n",
       "    <tr>\n",
       "      <th>year_of_birth</th>\n",
       "      <th></th>\n",
       "      <th></th>\n",
       "    </tr>\n",
       "  </thead>\n",
       "  <tbody>\n",
       "    <tr>\n",
       "      <th>1949</th>\n",
       "      <td>1.0</td>\n",
       "      <td>NaN</td>\n",
       "    </tr>\n",
       "    <tr>\n",
       "      <th>1954</th>\n",
       "      <td>17.0</td>\n",
       "      <td>4.0</td>\n",
       "    </tr>\n",
       "    <tr>\n",
       "      <th>1955</th>\n",
       "      <td>147.0</td>\n",
       "      <td>22.0</td>\n",
       "    </tr>\n",
       "    <tr>\n",
       "      <th>1956</th>\n",
       "      <td>293.0</td>\n",
       "      <td>44.0</td>\n",
       "    </tr>\n",
       "    <tr>\n",
       "      <th>1957</th>\n",
       "      <td>345.0</td>\n",
       "      <td>67.0</td>\n",
       "    </tr>\n",
       "    <tr>\n",
       "      <th>1958</th>\n",
       "      <td>504.0</td>\n",
       "      <td>117.0</td>\n",
       "    </tr>\n",
       "    <tr>\n",
       "      <th>1959</th>\n",
       "      <td>685.0</td>\n",
       "      <td>131.0</td>\n",
       "    </tr>\n",
       "    <tr>\n",
       "      <th>1960</th>\n",
       "      <td>991.0</td>\n",
       "      <td>250.0</td>\n",
       "    </tr>\n",
       "    <tr>\n",
       "      <th>1961</th>\n",
       "      <td>954.0</td>\n",
       "      <td>219.0</td>\n",
       "    </tr>\n",
       "    <tr>\n",
       "      <th>1962</th>\n",
       "      <td>1202.0</td>\n",
       "      <td>276.0</td>\n",
       "    </tr>\n",
       "    <tr>\n",
       "      <th>1963</th>\n",
       "      <td>1251.0</td>\n",
       "      <td>305.0</td>\n",
       "    </tr>\n",
       "    <tr>\n",
       "      <th>1964</th>\n",
       "      <td>1442.0</td>\n",
       "      <td>331.0</td>\n",
       "    </tr>\n",
       "    <tr>\n",
       "      <th>1965</th>\n",
       "      <td>1914.0</td>\n",
       "      <td>483.0</td>\n",
       "    </tr>\n",
       "    <tr>\n",
       "      <th>1966</th>\n",
       "      <td>1849.0</td>\n",
       "      <td>419.0</td>\n",
       "    </tr>\n",
       "    <tr>\n",
       "      <th>1967</th>\n",
       "      <td>1999.0</td>\n",
       "      <td>523.0</td>\n",
       "    </tr>\n",
       "    <tr>\n",
       "      <th>1968</th>\n",
       "      <td>2456.0</td>\n",
       "      <td>625.0</td>\n",
       "    </tr>\n",
       "    <tr>\n",
       "      <th>1969</th>\n",
       "      <td>2522.0</td>\n",
       "      <td>625.0</td>\n",
       "    </tr>\n",
       "    <tr>\n",
       "      <th>1970</th>\n",
       "      <td>3217.0</td>\n",
       "      <td>846.0</td>\n",
       "    </tr>\n",
       "    <tr>\n",
       "      <th>1971</th>\n",
       "      <td>2936.0</td>\n",
       "      <td>785.0</td>\n",
       "    </tr>\n",
       "    <tr>\n",
       "      <th>1972</th>\n",
       "      <td>3523.0</td>\n",
       "      <td>843.0</td>\n",
       "    </tr>\n",
       "    <tr>\n",
       "      <th>1973</th>\n",
       "      <td>3541.0</td>\n",
       "      <td>925.0</td>\n",
       "    </tr>\n",
       "    <tr>\n",
       "      <th>1974</th>\n",
       "      <td>3793.0</td>\n",
       "      <td>845.0</td>\n",
       "    </tr>\n",
       "    <tr>\n",
       "      <th>1975</th>\n",
       "      <td>4488.0</td>\n",
       "      <td>1139.0</td>\n",
       "    </tr>\n",
       "    <tr>\n",
       "      <th>1976</th>\n",
       "      <td>4430.0</td>\n",
       "      <td>1151.0</td>\n",
       "    </tr>\n",
       "    <tr>\n",
       "      <th>1977</th>\n",
       "      <td>4198.0</td>\n",
       "      <td>1112.0</td>\n",
       "    </tr>\n",
       "    <tr>\n",
       "      <th>1978</th>\n",
       "      <td>4672.0</td>\n",
       "      <td>1211.0</td>\n",
       "    </tr>\n",
       "    <tr>\n",
       "      <th>1979</th>\n",
       "      <td>4500.0</td>\n",
       "      <td>1114.0</td>\n",
       "    </tr>\n",
       "    <tr>\n",
       "      <th>1980</th>\n",
       "      <td>5317.0</td>\n",
       "      <td>1471.0</td>\n",
       "    </tr>\n",
       "    <tr>\n",
       "      <th>1981</th>\n",
       "      <td>4898.0</td>\n",
       "      <td>1280.0</td>\n",
       "    </tr>\n",
       "    <tr>\n",
       "      <th>1982</th>\n",
       "      <td>5579.0</td>\n",
       "      <td>1439.0</td>\n",
       "    </tr>\n",
       "    <tr>\n",
       "      <th>1983</th>\n",
       "      <td>5676.0</td>\n",
       "      <td>1464.0</td>\n",
       "    </tr>\n",
       "    <tr>\n",
       "      <th>1984</th>\n",
       "      <td>5907.0</td>\n",
       "      <td>1574.0</td>\n",
       "    </tr>\n",
       "    <tr>\n",
       "      <th>1985</th>\n",
       "      <td>6185.0</td>\n",
       "      <td>1737.0</td>\n",
       "    </tr>\n",
       "    <tr>\n",
       "      <th>1986</th>\n",
       "      <td>6614.0</td>\n",
       "      <td>1827.0</td>\n",
       "    </tr>\n",
       "    <tr>\n",
       "      <th>1987</th>\n",
       "      <td>6739.0</td>\n",
       "      <td>1894.0</td>\n",
       "    </tr>\n",
       "    <tr>\n",
       "      <th>1988</th>\n",
       "      <td>7201.0</td>\n",
       "      <td>2031.0</td>\n",
       "    </tr>\n",
       "    <tr>\n",
       "      <th>1989</th>\n",
       "      <td>6975.0</td>\n",
       "      <td>1928.0</td>\n",
       "    </tr>\n",
       "    <tr>\n",
       "      <th>1990</th>\n",
       "      <td>7815.0</td>\n",
       "      <td>2301.0</td>\n",
       "    </tr>\n",
       "    <tr>\n",
       "      <th>1991</th>\n",
       "      <td>7314.0</td>\n",
       "      <td>2071.0</td>\n",
       "    </tr>\n",
       "    <tr>\n",
       "      <th>1992</th>\n",
       "      <td>7989.0</td>\n",
       "      <td>2401.0</td>\n",
       "    </tr>\n",
       "    <tr>\n",
       "      <th>1993</th>\n",
       "      <td>7679.0</td>\n",
       "      <td>2328.0</td>\n",
       "    </tr>\n",
       "    <tr>\n",
       "      <th>1994</th>\n",
       "      <td>8126.0</td>\n",
       "      <td>2404.0</td>\n",
       "    </tr>\n",
       "    <tr>\n",
       "      <th>1995</th>\n",
       "      <td>8024.0</td>\n",
       "      <td>2560.0</td>\n",
       "    </tr>\n",
       "    <tr>\n",
       "      <th>1996</th>\n",
       "      <td>7740.0</td>\n",
       "      <td>2471.0</td>\n",
       "    </tr>\n",
       "    <tr>\n",
       "      <th>1997</th>\n",
       "      <td>5569.0</td>\n",
       "      <td>1920.0</td>\n",
       "    </tr>\n",
       "    <tr>\n",
       "      <th>1998</th>\n",
       "      <td>1642.0</td>\n",
       "      <td>546.0</td>\n",
       "    </tr>\n",
       "    <tr>\n",
       "      <th>1999</th>\n",
       "      <td>1221.0</td>\n",
       "      <td>383.0</td>\n",
       "    </tr>\n",
       "    <tr>\n",
       "      <th>2000</th>\n",
       "      <td>463.0</td>\n",
       "      <td>169.0</td>\n",
       "    </tr>\n",
       "  </tbody>\n",
       "</table>\n",
       "</div>"
      ],
      "text/plain": [
       "              loan_default        \n",
       "loan_default             0       1\n",
       "year_of_birth                     \n",
       "1949                   1.0     NaN\n",
       "1954                  17.0     4.0\n",
       "1955                 147.0    22.0\n",
       "1956                 293.0    44.0\n",
       "1957                 345.0    67.0\n",
       "1958                 504.0   117.0\n",
       "1959                 685.0   131.0\n",
       "1960                 991.0   250.0\n",
       "1961                 954.0   219.0\n",
       "1962                1202.0   276.0\n",
       "1963                1251.0   305.0\n",
       "1964                1442.0   331.0\n",
       "1965                1914.0   483.0\n",
       "1966                1849.0   419.0\n",
       "1967                1999.0   523.0\n",
       "1968                2456.0   625.0\n",
       "1969                2522.0   625.0\n",
       "1970                3217.0   846.0\n",
       "1971                2936.0   785.0\n",
       "1972                3523.0   843.0\n",
       "1973                3541.0   925.0\n",
       "1974                3793.0   845.0\n",
       "1975                4488.0  1139.0\n",
       "1976                4430.0  1151.0\n",
       "1977                4198.0  1112.0\n",
       "1978                4672.0  1211.0\n",
       "1979                4500.0  1114.0\n",
       "1980                5317.0  1471.0\n",
       "1981                4898.0  1280.0\n",
       "1982                5579.0  1439.0\n",
       "1983                5676.0  1464.0\n",
       "1984                5907.0  1574.0\n",
       "1985                6185.0  1737.0\n",
       "1986                6614.0  1827.0\n",
       "1987                6739.0  1894.0\n",
       "1988                7201.0  2031.0\n",
       "1989                6975.0  1928.0\n",
       "1990                7815.0  2301.0\n",
       "1991                7314.0  2071.0\n",
       "1992                7989.0  2401.0\n",
       "1993                7679.0  2328.0\n",
       "1994                8126.0  2404.0\n",
       "1995                8024.0  2560.0\n",
       "1996                7740.0  2471.0\n",
       "1997                5569.0  1920.0\n",
       "1998                1642.0   546.0\n",
       "1999                1221.0   383.0\n",
       "2000                 463.0   169.0"
      ]
     },
     "execution_count": 210,
     "metadata": {},
     "output_type": "execute_result"
    }
   ],
   "source": [
    "data.unstack()"
   ]
  },
  {
   "cell_type": "code",
   "execution_count": 211,
   "id": "a732877f",
   "metadata": {
    "ExecuteTime": {
     "end_time": "2021-07-21T08:52:20.849943Z",
     "start_time": "2021-07-21T08:52:20.438223Z"
    }
   },
   "outputs": [
    {
     "data": {
      "text/plain": [
       "<AxesSubplot:xlabel='year_of_birth'>"
      ]
     },
     "execution_count": 211,
     "metadata": {},
     "output_type": "execute_result"
    },
    {
     "data": {
      "image/png": "[encoded data removed]",
      "text/plain": [
       "<Figure size 432x288 with 1 Axes>"
      ]
     },
     "metadata": {
      "needs_background": "light"
     },
     "output_type": "display_data"
    }
   ],
   "source": [
    "data.unstack().plot(kind=\"bar\", stacked=True)"
   ]
  },
  {
   "cell_type": "code",
   "execution_count": 212,
   "id": "cf7da6fa",
   "metadata": {
    "ExecuteTime": {
     "end_time": "2021-07-21T08:52:35.991422Z",
     "start_time": "2021-07-21T08:52:35.985725Z"
    }
   },
   "outputs": [],
   "source": [
    "unstacked_data = data.unstack()"
   ]
  },
  {
   "cell_type": "code",
   "execution_count": 213,
   "id": "f055b1d5",
   "metadata": {
    "ExecuteTime": {
     "end_time": "2021-07-21T08:52:36.206931Z",
     "start_time": "2021-07-21T08:52:36.199820Z"
    }
   },
   "outputs": [
    {
     "data": {
      "text/plain": [
       "              loan_default\n",
       "loan_default  0               1.0\n",
       "              1               NaN\n",
       "Name: 1949, dtype: float64"
      ]
     },
     "execution_count": 213,
     "metadata": {},
     "output_type": "execute_result"
    }
   ],
   "source": [
    "unstacked_data.iloc[0, :]"
   ]
  },
  {
   "cell_type": "code",
   "execution_count": 214,
   "id": "05a0f9dd",
   "metadata": {
    "ExecuteTime": {
     "end_time": "2021-07-21T08:52:36.322930Z",
     "start_time": "2021-07-21T08:52:36.319316Z"
    }
   },
   "outputs": [
    {
     "data": {
      "text/plain": [
       "year_of_birth\n",
       "1949    1.0\n",
       "Name: 0, dtype: float64"
      ]
     },
     "execution_count": 214,
     "metadata": {},
     "output_type": "execute_result"
    }
   ],
   "source": [
    "\n",
    "unstacked_data[0: 1][\"loan_default\"][0]"
   ]
  },
  {
   "cell_type": "code",
   "execution_count": 215,
   "id": "63f452bb",
   "metadata": {
    "ExecuteTime": {
     "end_time": "2021-07-21T08:52:36.736742Z",
     "start_time": "2021-07-21T08:52:36.727924Z"
    }
   },
   "outputs": [],
   "source": [
    "unstacked_data[\"percentage\"] = unstacked_data[\"loan_default\"][1]/(unstacked_data[\"loan_default\"][0]+unstacked_data[\"loan_default\"][1])"
   ]
  },
  {
   "cell_type": "code",
   "execution_count": 216,
   "id": "78d8ebdb",
   "metadata": {
    "ExecuteTime": {
     "end_time": "2021-07-21T08:52:37.194701Z",
     "start_time": "2021-07-21T08:52:37.164468Z"
    }
   },
   "outputs": [
    {
     "data": {
      "text/html": [
       "<div>\n",
       "<style scoped>\n",
       "    .dataframe tbody tr th:only-of-type {\n",
       "        vertical-align: middle;\n",
       "    }\n",
       "\n",
       "    .dataframe tbody tr th {\n",
       "        vertical-align: top;\n",
       "    }\n",
       "\n",
       "    .dataframe thead tr th {\n",
       "        text-align: left;\n",
       "    }\n",
       "\n",
       "    .dataframe thead tr:last-of-type th {\n",
       "        text-align: right;\n",
       "    }\n",
       "</style>\n",
       "<table border=\"1\" class=\"dataframe\">\n",
       "  <thead>\n",
       "    <tr>\n",
       "      <th></th>\n",
       "      <th colspan=\"2\" halign=\"left\">loan_default</th>\n",
       "      <th>percentage</th>\n",
       "    </tr>\n",
       "    <tr>\n",
       "      <th>loan_default</th>\n",
       "      <th>0</th>\n",
       "      <th>1</th>\n",
       "      <th></th>\n",
       "    </tr>\n",
       "    <tr>\n",
       "      <th>year_of_birth</th>\n",
       "      <th></th>\n",
       "      <th></th>\n",
       "      <th></th>\n",
       "    </tr>\n",
       "  </thead>\n",
       "  <tbody>\n",
       "    <tr>\n",
       "      <th>1949</th>\n",
       "      <td>1.0</td>\n",
       "      <td>NaN</td>\n",
       "      <td>NaN</td>\n",
       "    </tr>\n",
       "    <tr>\n",
       "      <th>1954</th>\n",
       "      <td>17.0</td>\n",
       "      <td>4.0</td>\n",
       "      <td>0.190476</td>\n",
       "    </tr>\n",
       "    <tr>\n",
       "      <th>1955</th>\n",
       "      <td>147.0</td>\n",
       "      <td>22.0</td>\n",
       "      <td>0.130178</td>\n",
       "    </tr>\n",
       "    <tr>\n",
       "      <th>1956</th>\n",
       "      <td>293.0</td>\n",
       "      <td>44.0</td>\n",
       "      <td>0.130564</td>\n",
       "    </tr>\n",
       "    <tr>\n",
       "      <th>1957</th>\n",
       "      <td>345.0</td>\n",
       "      <td>67.0</td>\n",
       "      <td>0.162621</td>\n",
       "    </tr>\n",
       "    <tr>\n",
       "      <th>1958</th>\n",
       "      <td>504.0</td>\n",
       "      <td>117.0</td>\n",
       "      <td>0.188406</td>\n",
       "    </tr>\n",
       "    <tr>\n",
       "      <th>1959</th>\n",
       "      <td>685.0</td>\n",
       "      <td>131.0</td>\n",
       "      <td>0.160539</td>\n",
       "    </tr>\n",
       "    <tr>\n",
       "      <th>1960</th>\n",
       "      <td>991.0</td>\n",
       "      <td>250.0</td>\n",
       "      <td>0.201450</td>\n",
       "    </tr>\n",
       "    <tr>\n",
       "      <th>1961</th>\n",
       "      <td>954.0</td>\n",
       "      <td>219.0</td>\n",
       "      <td>0.186701</td>\n",
       "    </tr>\n",
       "    <tr>\n",
       "      <th>1962</th>\n",
       "      <td>1202.0</td>\n",
       "      <td>276.0</td>\n",
       "      <td>0.186739</td>\n",
       "    </tr>\n",
       "    <tr>\n",
       "      <th>1963</th>\n",
       "      <td>1251.0</td>\n",
       "      <td>305.0</td>\n",
       "      <td>0.196015</td>\n",
       "    </tr>\n",
       "    <tr>\n",
       "      <th>1964</th>\n",
       "      <td>1442.0</td>\n",
       "      <td>331.0</td>\n",
       "      <td>0.186689</td>\n",
       "    </tr>\n",
       "    <tr>\n",
       "      <th>1965</th>\n",
       "      <td>1914.0</td>\n",
       "      <td>483.0</td>\n",
       "      <td>0.201502</td>\n",
       "    </tr>\n",
       "    <tr>\n",
       "      <th>1966</th>\n",
       "      <td>1849.0</td>\n",
       "      <td>419.0</td>\n",
       "      <td>0.184744</td>\n",
       "    </tr>\n",
       "    <tr>\n",
       "      <th>1967</th>\n",
       "      <td>1999.0</td>\n",
       "      <td>523.0</td>\n",
       "      <td>0.207375</td>\n",
       "    </tr>\n",
       "    <tr>\n",
       "      <th>1968</th>\n",
       "      <td>2456.0</td>\n",
       "      <td>625.0</td>\n",
       "      <td>0.202856</td>\n",
       "    </tr>\n",
       "    <tr>\n",
       "      <th>1969</th>\n",
       "      <td>2522.0</td>\n",
       "      <td>625.0</td>\n",
       "      <td>0.198602</td>\n",
       "    </tr>\n",
       "    <tr>\n",
       "      <th>1970</th>\n",
       "      <td>3217.0</td>\n",
       "      <td>846.0</td>\n",
       "      <td>0.208221</td>\n",
       "    </tr>\n",
       "    <tr>\n",
       "      <th>1971</th>\n",
       "      <td>2936.0</td>\n",
       "      <td>785.0</td>\n",
       "      <td>0.210965</td>\n",
       "    </tr>\n",
       "    <tr>\n",
       "      <th>1972</th>\n",
       "      <td>3523.0</td>\n",
       "      <td>843.0</td>\n",
       "      <td>0.193083</td>\n",
       "    </tr>\n",
       "    <tr>\n",
       "      <th>1973</th>\n",
       "      <td>3541.0</td>\n",
       "      <td>925.0</td>\n",
       "      <td>0.207120</td>\n",
       "    </tr>\n",
       "    <tr>\n",
       "      <th>1974</th>\n",
       "      <td>3793.0</td>\n",
       "      <td>845.0</td>\n",
       "      <td>0.182191</td>\n",
       "    </tr>\n",
       "    <tr>\n",
       "      <th>1975</th>\n",
       "      <td>4488.0</td>\n",
       "      <td>1139.0</td>\n",
       "      <td>0.202417</td>\n",
       "    </tr>\n",
       "    <tr>\n",
       "      <th>1976</th>\n",
       "      <td>4430.0</td>\n",
       "      <td>1151.0</td>\n",
       "      <td>0.206235</td>\n",
       "    </tr>\n",
       "    <tr>\n",
       "      <th>1977</th>\n",
       "      <td>4198.0</td>\n",
       "      <td>1112.0</td>\n",
       "      <td>0.209416</td>\n",
       "    </tr>\n",
       "    <tr>\n",
       "      <th>1978</th>\n",
       "      <td>4672.0</td>\n",
       "      <td>1211.0</td>\n",
       "      <td>0.205847</td>\n",
       "    </tr>\n",
       "    <tr>\n",
       "      <th>1979</th>\n",
       "      <td>4500.0</td>\n",
       "      <td>1114.0</td>\n",
       "      <td>0.198432</td>\n",
       "    </tr>\n",
       "    <tr>\n",
       "      <th>1980</th>\n",
       "      <td>5317.0</td>\n",
       "      <td>1471.0</td>\n",
       "      <td>0.216706</td>\n",
       "    </tr>\n",
       "    <tr>\n",
       "      <th>1981</th>\n",
       "      <td>4898.0</td>\n",
       "      <td>1280.0</td>\n",
       "      <td>0.207187</td>\n",
       "    </tr>\n",
       "    <tr>\n",
       "      <th>1982</th>\n",
       "      <td>5579.0</td>\n",
       "      <td>1439.0</td>\n",
       "      <td>0.205044</td>\n",
       "    </tr>\n",
       "    <tr>\n",
       "      <th>1983</th>\n",
       "      <td>5676.0</td>\n",
       "      <td>1464.0</td>\n",
       "      <td>0.205042</td>\n",
       "    </tr>\n",
       "    <tr>\n",
       "      <th>1984</th>\n",
       "      <td>5907.0</td>\n",
       "      <td>1574.0</td>\n",
       "      <td>0.210400</td>\n",
       "    </tr>\n",
       "    <tr>\n",
       "      <th>1985</th>\n",
       "      <td>6185.0</td>\n",
       "      <td>1737.0</td>\n",
       "      <td>0.219263</td>\n",
       "    </tr>\n",
       "    <tr>\n",
       "      <th>1986</th>\n",
       "      <td>6614.0</td>\n",
       "      <td>1827.0</td>\n",
       "      <td>0.216444</td>\n",
       "    </tr>\n",
       "    <tr>\n",
       "      <th>1987</th>\n",
       "      <td>6739.0</td>\n",
       "      <td>1894.0</td>\n",
       "      <td>0.219391</td>\n",
       "    </tr>\n",
       "    <tr>\n",
       "      <th>1988</th>\n",
       "      <td>7201.0</td>\n",
       "      <td>2031.0</td>\n",
       "      <td>0.219996</td>\n",
       "    </tr>\n",
       "    <tr>\n",
       "      <th>1989</th>\n",
       "      <td>6975.0</td>\n",
       "      <td>1928.0</td>\n",
       "      <td>0.216556</td>\n",
       "    </tr>\n",
       "    <tr>\n",
       "      <th>1990</th>\n",
       "      <td>7815.0</td>\n",
       "      <td>2301.0</td>\n",
       "      <td>0.227461</td>\n",
       "    </tr>\n",
       "    <tr>\n",
       "      <th>1991</th>\n",
       "      <td>7314.0</td>\n",
       "      <td>2071.0</td>\n",
       "      <td>0.220671</td>\n",
       "    </tr>\n",
       "    <tr>\n",
       "      <th>1992</th>\n",
       "      <td>7989.0</td>\n",
       "      <td>2401.0</td>\n",
       "      <td>0.231088</td>\n",
       "    </tr>\n",
       "    <tr>\n",
       "      <th>1993</th>\n",
       "      <td>7679.0</td>\n",
       "      <td>2328.0</td>\n",
       "      <td>0.232637</td>\n",
       "    </tr>\n",
       "    <tr>\n",
       "      <th>1994</th>\n",
       "      <td>8126.0</td>\n",
       "      <td>2404.0</td>\n",
       "      <td>0.228300</td>\n",
       "    </tr>\n",
       "    <tr>\n",
       "      <th>1995</th>\n",
       "      <td>8024.0</td>\n",
       "      <td>2560.0</td>\n",
       "      <td>0.241875</td>\n",
       "    </tr>\n",
       "    <tr>\n",
       "      <th>1996</th>\n",
       "      <td>7740.0</td>\n",
       "      <td>2471.0</td>\n",
       "      <td>0.241994</td>\n",
       "    </tr>\n",
       "    <tr>\n",
       "      <th>1997</th>\n",
       "      <td>5569.0</td>\n",
       "      <td>1920.0</td>\n",
       "      <td>0.256376</td>\n",
       "    </tr>\n",
       "    <tr>\n",
       "      <th>1998</th>\n",
       "      <td>1642.0</td>\n",
       "      <td>546.0</td>\n",
       "      <td>0.249543</td>\n",
       "    </tr>\n",
       "    <tr>\n",
       "      <th>1999</th>\n",
       "      <td>1221.0</td>\n",
       "      <td>383.0</td>\n",
       "      <td>0.238778</td>\n",
       "    </tr>\n",
       "    <tr>\n",
       "      <th>2000</th>\n",
       "      <td>463.0</td>\n",
       "      <td>169.0</td>\n",
       "      <td>0.267405</td>\n",
       "    </tr>\n",
       "  </tbody>\n",
       "</table>\n",
       "</div>"
      ],
      "text/plain": [
       "              loan_default         percentage\n",
       "loan_default             0       1           \n",
       "year_of_birth                                \n",
       "1949                   1.0     NaN        NaN\n",
       "1954                  17.0     4.0   0.190476\n",
       "1955                 147.0    22.0   0.130178\n",
       "1956                 293.0    44.0   0.130564\n",
       "1957                 345.0    67.0   0.162621\n",
       "1958                 504.0   117.0   0.188406\n",
       "1959                 685.0   131.0   0.160539\n",
       "1960                 991.0   250.0   0.201450\n",
       "1961                 954.0   219.0   0.186701\n",
       "1962                1202.0   276.0   0.186739\n",
       "1963                1251.0   305.0   0.196015\n",
       "1964                1442.0   331.0   0.186689\n",
       "1965                1914.0   483.0   0.201502\n",
       "1966                1849.0   419.0   0.184744\n",
       "1967                1999.0   523.0   0.207375\n",
       "1968                2456.0   625.0   0.202856\n",
       "1969                2522.0   625.0   0.198602\n",
       "1970                3217.0   846.0   0.208221\n",
       "1971                2936.0   785.0   0.210965\n",
       "1972                3523.0   843.0   0.193083\n",
       "1973                3541.0   925.0   0.207120\n",
       "1974                3793.0   845.0   0.182191\n",
       "1975                4488.0  1139.0   0.202417\n",
       "1976                4430.0  1151.0   0.206235\n",
       "1977                4198.0  1112.0   0.209416\n",
       "1978                4672.0  1211.0   0.205847\n",
       "1979                4500.0  1114.0   0.198432\n",
       "1980                5317.0  1471.0   0.216706\n",
       "1981                4898.0  1280.0   0.207187\n",
       "1982                5579.0  1439.0   0.205044\n",
       "1983                5676.0  1464.0   0.205042\n",
       "1984                5907.0  1574.0   0.210400\n",
       "1985                6185.0  1737.0   0.219263\n",
       "1986                6614.0  1827.0   0.216444\n",
       "1987                6739.0  1894.0   0.219391\n",
       "1988                7201.0  2031.0   0.219996\n",
       "1989                6975.0  1928.0   0.216556\n",
       "1990                7815.0  2301.0   0.227461\n",
       "1991                7314.0  2071.0   0.220671\n",
       "1992                7989.0  2401.0   0.231088\n",
       "1993                7679.0  2328.0   0.232637\n",
       "1994                8126.0  2404.0   0.228300\n",
       "1995                8024.0  2560.0   0.241875\n",
       "1996                7740.0  2471.0   0.241994\n",
       "1997                5569.0  1920.0   0.256376\n",
       "1998                1642.0   546.0   0.249543\n",
       "1999                1221.0   383.0   0.238778\n",
       "2000                 463.0   169.0   0.267405"
      ]
     },
     "execution_count": 216,
     "metadata": {},
     "output_type": "execute_result"
    }
   ],
   "source": [
    "unstacked_data"
   ]
  },
  {
   "cell_type": "code",
   "execution_count": 217,
   "id": "31a71bf0",
   "metadata": {
    "ExecuteTime": {
     "end_time": "2021-07-21T08:52:37.714216Z",
     "start_time": "2021-07-21T08:52:37.604129Z"
    }
   },
   "outputs": [
    {
     "data": {
      "text/plain": [
       "<matplotlib.collections.PathCollection at 0x7fd3569eba00>"
      ]
     },
     "execution_count": 217,
     "metadata": {},
     "output_type": "execute_result"
    },
    {
     "data": {
      "image/png": "[encoded data removed]",
      "text/plain": [
       "<Figure size 432x288 with 1 Axes>"
      ]
     },
     "metadata": {
      "needs_background": "light"
     },
     "output_type": "display_data"
    }
   ],
   "source": [
    "plt.scatter(unstacked_data.index, unstacked_data[\"percentage\"])"
   ]
  },
  {
   "cell_type": "code",
   "execution_count": null,
   "id": "a6db9433",
   "metadata": {},
   "outputs": [],
   "source": []
  },
  {
   "cell_type": "code",
   "execution_count": null,
   "id": "f3d6816d",
   "metadata": {},
   "outputs": [],
   "source": []
  }
 ],
 "metadata": {
  "kernelspec": {
   "display_name": "Python 3",
   "language": "python",
   "name": "python3"
  },
  "language_info": {
   "codemirror_mode": {
    "name": "ipython",
    "version": 3
   },
   "file_extension": ".py",
   "mimetype": "text/x-python",
   "name": "python",
   "nbconvert_exporter": "python",
   "pygments_lexer": "ipython3",
   "version": "3.9.5"
  },
  "varInspector": {
   "cols": {
    "lenName": 16,
    "lenType": 16,
    "lenVar": 40
   },
   "kernels_config": {
    "python": {
     "delete_cmd_postfix": "",
     "delete_cmd_prefix": "del ",
     "library": "var_list.py",
     "varRefreshCmd": "print(var_dic_list())"
    },
    "r": {
     "delete_cmd_postfix": ") ",
     "delete_cmd_prefix": "rm(",
     "library": "var_list.r",
     "varRefreshCmd": "cat(var_dic_list()) "
    }
   },
   "types_to_exclude": [
    "module",
    "function",
    "builtin_function_or_method",
    "instance",
    "_Feature"
   ],
   "window_display": false
  }
 },
 "nbformat": 4,
 "nbformat_minor": 5
}

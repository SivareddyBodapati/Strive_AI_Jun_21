{
 "cells": [
  {
   "cell_type": "code",
   "execution_count": 1,
   "id": "998e56e5",
   "metadata": {},
   "outputs": [],
   "source": [
    "import pandas as pd\n",
    "import streamlit as st\n",
    "import numpy as np\n",
    "import matplotlib.pyplot as plt"
   ]
  },
  {
   "cell_type": "markdown",
   "id": "9410d8a9",
   "metadata": {},
   "source": [
    "Lets start our exercise with EDA \n",
    "import the file into a dataframe "
   ]
  },
  {
   "cell_type": "code",
   "execution_count": 3,
   "id": "5acd13f3",
   "metadata": {},
   "outputs": [
    {
     "name": "stderr",
     "output_type": "stream",
     "text": [
      "2021-07-22 16:02:32.983 \n",
      "  \u001b[33m\u001b[1mWarning:\u001b[0m to view this Streamlit app on a browser, run it with the following\n",
      "  command:\n",
      "\n",
      "    streamlit run C:\\Users\\User\\anaconda3\\envs\\AI_M1\\lib\\site-packages\\ipykernel_launcher.py [ARGUMENTS]\n"
     ]
    }
   ],
   "source": [
    "st.write(\"\"\"\n",
    "\n",
    "## EDA of beers.csv!\n",
    "\n",
    "\"\"\")\n",
    "\n",
    "df=pd.read_csv(\"data/beers.csv\")\n",
    "df\n",
    "st.subheader('The original Dataset of beers.csv')\n",
    "st.write(df)\n",
    "# original dataset of each column\n"
   ]
  },
  {
   "cell_type": "code",
   "execution_count": 4,
   "id": "789e9f3b",
   "metadata": {},
   "outputs": [],
   "source": [
    "columns=df.columns.values\n",
    "def dataset():\n",
    "    column = st.sidebar.selectbox('Select The column',columns, 3)\n",
    "    return column\n",
    "df[dataset()]\n",
    "st.write(df[dataset()])"
   ]
  },
  {
   "cell_type": "code",
   "execution_count": 5,
   "id": "6110a8e3",
   "metadata": {},
   "outputs": [
    {
     "data": {
      "text/plain": [
       "Unnamed: 0       0\n",
       "abv             62\n",
       "ibu           1005\n",
       "id               0\n",
       "name             0\n",
       "style            5\n",
       "brewery_id       0\n",
       "ounces           0\n",
       "dtype: int64"
      ]
     },
     "execution_count": 5,
     "metadata": {},
     "output_type": "execute_result"
    }
   ],
   "source": [
    "df.isnull().sum()"
   ]
  },
  {
   "cell_type": "markdown",
   "id": "4d12a0eb",
   "metadata": {},
   "source": [
    "create a new dataset eliminating null values from df"
   ]
  },
  {
   "cell_type": "code",
   "execution_count": 11,
   "id": "b6ddedb4",
   "metadata": {},
   "outputs": [
    {
     "data": {
      "text/plain": [
       "nan"
      ]
     },
     "execution_count": 11,
     "metadata": {},
     "output_type": "execute_result"
    }
   ],
   "source": [
    "abv_new = df['abv'].dropna()\n",
    "ibu_new = df['ibu'].dropna()\n",
    "# print(abv_new,ibu_new)\n",
    "df['ibu'][0]"
   ]
  },
  {
   "cell_type": "code",
   "execution_count": 6,
   "id": "27d18d7a",
   "metadata": {},
   "outputs": [
    {
     "name": "stderr",
     "output_type": "stream",
     "text": [
      "2021-07-22 16:02:45.644 NumExpr defaulting to 8 threads.\n"
     ]
    },
    {
     "data": {
      "text/html": [
       "<div>\n",
       "<style scoped>\n",
       "    .dataframe tbody tr th:only-of-type {\n",
       "        vertical-align: middle;\n",
       "    }\n",
       "\n",
       "    .dataframe tbody tr th {\n",
       "        vertical-align: top;\n",
       "    }\n",
       "\n",
       "    .dataframe thead th {\n",
       "        text-align: right;\n",
       "    }\n",
       "</style>\n",
       "<table border=\"1\" class=\"dataframe\">\n",
       "  <thead>\n",
       "    <tr style=\"text-align: right;\">\n",
       "      <th></th>\n",
       "      <th>Unnamed: 0</th>\n",
       "      <th>abv</th>\n",
       "      <th>ibu</th>\n",
       "      <th>id</th>\n",
       "      <th>name</th>\n",
       "      <th>style</th>\n",
       "      <th>brewery_id</th>\n",
       "      <th>ounces</th>\n",
       "    </tr>\n",
       "  </thead>\n",
       "  <tbody>\n",
       "    <tr>\n",
       "      <th>14</th>\n",
       "      <td>14</td>\n",
       "      <td>0.061</td>\n",
       "      <td>60.0</td>\n",
       "      <td>1979</td>\n",
       "      <td>Bitter Bitch</td>\n",
       "      <td>American Pale Ale (APA)</td>\n",
       "      <td>177</td>\n",
       "      <td>12.0</td>\n",
       "    </tr>\n",
       "    <tr>\n",
       "      <th>21</th>\n",
       "      <td>21</td>\n",
       "      <td>0.099</td>\n",
       "      <td>92.0</td>\n",
       "      <td>1036</td>\n",
       "      <td>Lower De Boom</td>\n",
       "      <td>American Barleywine</td>\n",
       "      <td>368</td>\n",
       "      <td>8.4</td>\n",
       "    </tr>\n",
       "    <tr>\n",
       "      <th>22</th>\n",
       "      <td>22</td>\n",
       "      <td>0.079</td>\n",
       "      <td>45.0</td>\n",
       "      <td>1024</td>\n",
       "      <td>Fireside Chat</td>\n",
       "      <td>Winter Warmer</td>\n",
       "      <td>368</td>\n",
       "      <td>12.0</td>\n",
       "    </tr>\n",
       "    <tr>\n",
       "      <th>24</th>\n",
       "      <td>24</td>\n",
       "      <td>0.044</td>\n",
       "      <td>42.0</td>\n",
       "      <td>876</td>\n",
       "      <td>Bitter American</td>\n",
       "      <td>American Pale Ale (APA)</td>\n",
       "      <td>368</td>\n",
       "      <td>12.0</td>\n",
       "    </tr>\n",
       "    <tr>\n",
       "      <th>25</th>\n",
       "      <td>25</td>\n",
       "      <td>0.049</td>\n",
       "      <td>17.0</td>\n",
       "      <td>802</td>\n",
       "      <td>Hell or High Watermelon Wheat (2009)</td>\n",
       "      <td>Fruit / Vegetable Beer</td>\n",
       "      <td>368</td>\n",
       "      <td>12.0</td>\n",
       "    </tr>\n",
       "    <tr>\n",
       "      <th>...</th>\n",
       "      <td>...</td>\n",
       "      <td>...</td>\n",
       "      <td>...</td>\n",
       "      <td>...</td>\n",
       "      <td>...</td>\n",
       "      <td>...</td>\n",
       "      <td>...</td>\n",
       "      <td>...</td>\n",
       "    </tr>\n",
       "    <tr>\n",
       "      <th>2398</th>\n",
       "      <td>2398</td>\n",
       "      <td>0.077</td>\n",
       "      <td>30.0</td>\n",
       "      <td>1513</td>\n",
       "      <td>Lights Out Vanilla Cream Extra Stout</td>\n",
       "      <td>American Double / Imperial IPA</td>\n",
       "      <td>199</td>\n",
       "      <td>12.0</td>\n",
       "    </tr>\n",
       "    <tr>\n",
       "      <th>2399</th>\n",
       "      <td>2399</td>\n",
       "      <td>0.069</td>\n",
       "      <td>69.0</td>\n",
       "      <td>1512</td>\n",
       "      <td>Worthy IPA (2013)</td>\n",
       "      <td>American IPA</td>\n",
       "      <td>199</td>\n",
       "      <td>12.0</td>\n",
       "    </tr>\n",
       "    <tr>\n",
       "      <th>2400</th>\n",
       "      <td>2400</td>\n",
       "      <td>0.060</td>\n",
       "      <td>50.0</td>\n",
       "      <td>1511</td>\n",
       "      <td>Worthy Pale</td>\n",
       "      <td>American Pale Ale (APA)</td>\n",
       "      <td>199</td>\n",
       "      <td>12.0</td>\n",
       "    </tr>\n",
       "    <tr>\n",
       "      <th>2405</th>\n",
       "      <td>2405</td>\n",
       "      <td>0.067</td>\n",
       "      <td>45.0</td>\n",
       "      <td>928</td>\n",
       "      <td>Belgorado</td>\n",
       "      <td>Belgian IPA</td>\n",
       "      <td>424</td>\n",
       "      <td>12.0</td>\n",
       "    </tr>\n",
       "    <tr>\n",
       "      <th>2408</th>\n",
       "      <td>2408</td>\n",
       "      <td>0.055</td>\n",
       "      <td>40.0</td>\n",
       "      <td>145</td>\n",
       "      <td>Silverback Pale Ale</td>\n",
       "      <td>American Pale Ale (APA)</td>\n",
       "      <td>424</td>\n",
       "      <td>12.0</td>\n",
       "    </tr>\n",
       "  </tbody>\n",
       "</table>\n",
       "<p>1403 rows × 8 columns</p>\n",
       "</div>"
      ],
      "text/plain": [
       "      Unnamed: 0    abv   ibu    id                                  name  \\\n",
       "14            14  0.061  60.0  1979                          Bitter Bitch   \n",
       "21            21  0.099  92.0  1036                         Lower De Boom   \n",
       "22            22  0.079  45.0  1024                         Fireside Chat   \n",
       "24            24  0.044  42.0   876                       Bitter American   \n",
       "25            25  0.049  17.0   802  Hell or High Watermelon Wheat (2009)   \n",
       "...          ...    ...   ...   ...                                   ...   \n",
       "2398        2398  0.077  30.0  1513  Lights Out Vanilla Cream Extra Stout   \n",
       "2399        2399  0.069  69.0  1512                     Worthy IPA (2013)   \n",
       "2400        2400  0.060  50.0  1511                           Worthy Pale   \n",
       "2405        2405  0.067  45.0   928                             Belgorado   \n",
       "2408        2408  0.055  40.0   145                   Silverback Pale Ale   \n",
       "\n",
       "                               style  brewery_id  ounces  \n",
       "14           American Pale Ale (APA)         177    12.0  \n",
       "21               American Barleywine         368     8.4  \n",
       "22                     Winter Warmer         368    12.0  \n",
       "24           American Pale Ale (APA)         368    12.0  \n",
       "25            Fruit / Vegetable Beer         368    12.0  \n",
       "...                              ...         ...     ...  \n",
       "2398  American Double / Imperial IPA         199    12.0  \n",
       "2399                    American IPA         199    12.0  \n",
       "2400         American Pale Ale (APA)         199    12.0  \n",
       "2405                     Belgian IPA         424    12.0  \n",
       "2408         American Pale Ale (APA)         424    12.0  \n",
       "\n",
       "[1403 rows x 8 columns]"
      ]
     },
     "execution_count": 6,
     "metadata": {},
     "output_type": "execute_result"
    }
   ],
   "source": [
    "df_new=df.dropna()\n",
    "df_new\n",
    "# st.subheader('The new Dataset of beers.csv after removing null values')\n",
    "# st.write(df_new)\n"
   ]
  },
  {
   "cell_type": "code",
   "execution_count": 63,
   "id": "5047429d",
   "metadata": {},
   "outputs": [
    {
     "data": {
      "text/plain": [
       "'Winter Warmer'"
      ]
     },
     "execution_count": 63,
     "metadata": {},
     "output_type": "execute_result"
    }
   ],
   "source": [
    "df_new['style'].iloc[2]"
   ]
  },
  {
   "cell_type": "code",
   "execution_count": 116,
   "id": "1d6bf72e",
   "metadata": {},
   "outputs": [
    {
     "data": {
      "text/plain": [
       "Nonstop Hef Hop           12\n",
       "Dale's Pale Ale            6\n",
       "Longboard Island Lager     4\n",
       "Boston Lager               3\n",
       "1327 Pod's ESB             3\n",
       "                          ..\n",
       "Aprè Shred                 1\n",
       "Grisette                   1\n",
       "Farm Girl Saison           1\n",
       "Weissenheimer              1\n",
       "Cache La Porter            1\n",
       "Name: name, Length: 1326, dtype: int64"
      ]
     },
     "execution_count": 116,
     "metadata": {},
     "output_type": "execute_result"
    }
   ],
   "source": [
    "df_new['ounces'].value_counts()\n",
    "df_new['name'].value_counts()"
   ]
  },
  {
   "cell_type": "code",
   "execution_count": 7,
   "id": "f5c3cd21",
   "metadata": {},
   "outputs": [
    {
     "data": {
      "text/html": [
       "<div>\n",
       "<style scoped>\n",
       "    .dataframe tbody tr th:only-of-type {\n",
       "        vertical-align: middle;\n",
       "    }\n",
       "\n",
       "    .dataframe tbody tr th {\n",
       "        vertical-align: top;\n",
       "    }\n",
       "\n",
       "    .dataframe thead th {\n",
       "        text-align: right;\n",
       "    }\n",
       "</style>\n",
       "<table border=\"1\" class=\"dataframe\">\n",
       "  <thead>\n",
       "    <tr style=\"text-align: right;\">\n",
       "      <th></th>\n",
       "      <th>Unnamed: 0</th>\n",
       "      <th>abv</th>\n",
       "      <th>ibu</th>\n",
       "      <th>id</th>\n",
       "      <th>brewery_id</th>\n",
       "      <th>ounces</th>\n",
       "    </tr>\n",
       "  </thead>\n",
       "  <tbody>\n",
       "    <tr>\n",
       "      <th>count</th>\n",
       "      <td>153.000000</td>\n",
       "      <td>153.000000</td>\n",
       "      <td>153.000000</td>\n",
       "      <td>153.000000</td>\n",
       "      <td>153.000000</td>\n",
       "      <td>153.000000</td>\n",
       "    </tr>\n",
       "    <tr>\n",
       "      <th>mean</th>\n",
       "      <td>1246.588235</td>\n",
       "      <td>0.054974</td>\n",
       "      <td>44.941176</td>\n",
       "      <td>1355.261438</td>\n",
       "      <td>241.385621</td>\n",
       "      <td>13.009150</td>\n",
       "    </tr>\n",
       "    <tr>\n",
       "      <th>std</th>\n",
       "      <td>670.098152</td>\n",
       "      <td>0.006229</td>\n",
       "      <td>11.542961</td>\n",
       "      <td>762.080556</td>\n",
       "      <td>150.827809</td>\n",
       "      <td>2.333773</td>\n",
       "    </tr>\n",
       "    <tr>\n",
       "      <th>min</th>\n",
       "      <td>14.000000</td>\n",
       "      <td>0.037000</td>\n",
       "      <td>16.000000</td>\n",
       "      <td>1.000000</td>\n",
       "      <td>1.000000</td>\n",
       "      <td>12.000000</td>\n",
       "    </tr>\n",
       "    <tr>\n",
       "      <th>25%</th>\n",
       "      <td>712.000000</td>\n",
       "      <td>0.052000</td>\n",
       "      <td>36.000000</td>\n",
       "      <td>755.000000</td>\n",
       "      <td>122.000000</td>\n",
       "      <td>12.000000</td>\n",
       "    </tr>\n",
       "    <tr>\n",
       "      <th>50%</th>\n",
       "      <td>1324.000000</td>\n",
       "      <td>0.055000</td>\n",
       "      <td>44.000000</td>\n",
       "      <td>1240.000000</td>\n",
       "      <td>191.000000</td>\n",
       "      <td>12.000000</td>\n",
       "    </tr>\n",
       "    <tr>\n",
       "      <th>75%</th>\n",
       "      <td>1784.000000</td>\n",
       "      <td>0.058000</td>\n",
       "      <td>54.000000</td>\n",
       "      <td>2017.000000</td>\n",
       "      <td>368.000000</td>\n",
       "      <td>12.000000</td>\n",
       "    </tr>\n",
       "    <tr>\n",
       "      <th>max</th>\n",
       "      <td>2408.000000</td>\n",
       "      <td>0.070000</td>\n",
       "      <td>68.000000</td>\n",
       "      <td>2683.000000</td>\n",
       "      <td>541.000000</td>\n",
       "      <td>32.000000</td>\n",
       "    </tr>\n",
       "  </tbody>\n",
       "</table>\n",
       "</div>"
      ],
      "text/plain": [
       "        Unnamed: 0         abv         ibu           id  brewery_id  \\\n",
       "count   153.000000  153.000000  153.000000   153.000000  153.000000   \n",
       "mean   1246.588235    0.054974   44.941176  1355.261438  241.385621   \n",
       "std     670.098152    0.006229   11.542961   762.080556  150.827809   \n",
       "min      14.000000    0.037000   16.000000     1.000000    1.000000   \n",
       "25%     712.000000    0.052000   36.000000   755.000000  122.000000   \n",
       "50%    1324.000000    0.055000   44.000000  1240.000000  191.000000   \n",
       "75%    1784.000000    0.058000   54.000000  2017.000000  368.000000   \n",
       "max    2408.000000    0.070000   68.000000  2683.000000  541.000000   \n",
       "\n",
       "           ounces  \n",
       "count  153.000000  \n",
       "mean    13.009150  \n",
       "std      2.333773  \n",
       "min     12.000000  \n",
       "25%     12.000000  \n",
       "50%     12.000000  \n",
       "75%     12.000000  \n",
       "max     32.000000  "
      ]
     },
     "execution_count": 7,
     "metadata": {},
     "output_type": "execute_result"
    }
   ],
   "source": [
    "beer_styles=df_new['style'].values\n",
    "def style_data():\n",
    "    value = st.sidebar.selectbox('Select the style of beers',beer_styles, 3)\n",
    "    case_value =df_new.loc[df['style'] == value]\n",
    "    return case_value\n",
    "case_value= style_data()\n",
    "case_value.describe()"
   ]
  },
  {
   "cell_type": "code",
   "execution_count": 122,
   "id": "49ede3ca",
   "metadata": {},
   "outputs": [
    {
     "name": "stdout",
     "output_type": "stream",
     "text": [
      "<class 'pandas.core.frame.DataFrame'>\n",
      "Int64Index: 1403 entries, 14 to 2408\n",
      "Data columns (total 8 columns):\n",
      " #   Column      Non-Null Count  Dtype  \n",
      "---  ------      --------------  -----  \n",
      " 0   Unnamed: 0  1403 non-null   int64  \n",
      " 1   abv         1403 non-null   float64\n",
      " 2   ibu         1403 non-null   float64\n",
      " 3   id          1403 non-null   int64  \n",
      " 4   name        1403 non-null   int64  \n",
      " 5   style       1403 non-null   int64  \n",
      " 6   brewery_id  1403 non-null   int64  \n",
      " 7   ounces      1403 non-null   float64\n",
      "dtypes: float64(3), int64(5)\n",
      "memory usage: 130.9 KB\n"
     ]
    }
   ],
   "source": [
    "df_new.info()"
   ]
  },
  {
   "cell_type": "code",
   "execution_count": 9,
   "id": "d4dd890f",
   "metadata": {},
   "outputs": [],
   "source": [
    "for data in df_new.columns:\n",
    "    if type(df_new[data].values[0]) == str:\n",
    "        values = df_new[data].unique()\n",
    "        emp_dict ={}\n",
    "        for i, val in enumerate(values):\n",
    "            emp_dict[val] =  i\n",
    "            df_new = df_new.replace({data: emp_dict})\n"
   ]
  },
  {
   "cell_type": "code",
   "execution_count": 10,
   "id": "cc9ae086",
   "metadata": {},
   "outputs": [
    {
     "name": "stdout",
     "output_type": "stream",
     "text": [
      "         data  correlation\n",
      "0  Unnamed: 0     0.995530\n",
      "1         abv     0.024112\n",
      "2         ibu     0.019927\n",
      "3          id    -0.054341\n",
      "4        name     1.000000\n",
      "5       style     0.098771\n",
      "6  brewery_id    -0.129127\n",
      "7      ounces     0.050875\n"
     ]
    }
   ],
   "source": [
    "correlation ={}\n",
    "for data in df_new.columns:\n",
    "    correlation[data] = df_new[data].corr(df_new['name'])\n",
    "    \n",
    "correlation =pd.DataFrame(list(correlation.items()),columns =['data','correlation'])\n",
    "top_correlation =correlation.sort_values(by='correlation', ascending=False)[:5]\n",
    "print(correlation)"
   ]
  },
  {
   "cell_type": "code",
   "execution_count": 129,
   "id": "560ca780",
   "metadata": {},
   "outputs": [
    {
     "data": {
      "text/html": [
       "<div>\n",
       "<style scoped>\n",
       "    .dataframe tbody tr th:only-of-type {\n",
       "        vertical-align: middle;\n",
       "    }\n",
       "\n",
       "    .dataframe tbody tr th {\n",
       "        vertical-align: top;\n",
       "    }\n",
       "\n",
       "    .dataframe thead th {\n",
       "        text-align: right;\n",
       "    }\n",
       "</style>\n",
       "<table border=\"1\" class=\"dataframe\">\n",
       "  <thead>\n",
       "    <tr style=\"text-align: right;\">\n",
       "      <th></th>\n",
       "      <th>name</th>\n",
       "      <th>Unnamed: 0</th>\n",
       "      <th>style</th>\n",
       "      <th>ounces</th>\n",
       "    </tr>\n",
       "  </thead>\n",
       "  <tbody>\n",
       "    <tr>\n",
       "      <th>0</th>\n",
       "      <td>Pub Beer</td>\n",
       "      <td>0</td>\n",
       "      <td>American Pale Lager</td>\n",
       "      <td>12.0</td>\n",
       "    </tr>\n",
       "    <tr>\n",
       "      <th>1</th>\n",
       "      <td>Devil's Cup</td>\n",
       "      <td>1</td>\n",
       "      <td>American Pale Ale (APA)</td>\n",
       "      <td>12.0</td>\n",
       "    </tr>\n",
       "    <tr>\n",
       "      <th>2</th>\n",
       "      <td>Rise of the Phoenix</td>\n",
       "      <td>2</td>\n",
       "      <td>American IPA</td>\n",
       "      <td>12.0</td>\n",
       "    </tr>\n",
       "    <tr>\n",
       "      <th>3</th>\n",
       "      <td>Sinister</td>\n",
       "      <td>3</td>\n",
       "      <td>American Double / Imperial IPA</td>\n",
       "      <td>12.0</td>\n",
       "    </tr>\n",
       "    <tr>\n",
       "      <th>4</th>\n",
       "      <td>Sex and Candy</td>\n",
       "      <td>4</td>\n",
       "      <td>American IPA</td>\n",
       "      <td>12.0</td>\n",
       "    </tr>\n",
       "    <tr>\n",
       "      <th>...</th>\n",
       "      <td>...</td>\n",
       "      <td>...</td>\n",
       "      <td>...</td>\n",
       "      <td>...</td>\n",
       "    </tr>\n",
       "    <tr>\n",
       "      <th>2405</th>\n",
       "      <td>Belgorado</td>\n",
       "      <td>2405</td>\n",
       "      <td>Belgian IPA</td>\n",
       "      <td>12.0</td>\n",
       "    </tr>\n",
       "    <tr>\n",
       "      <th>2406</th>\n",
       "      <td>Rail Yard Ale</td>\n",
       "      <td>2406</td>\n",
       "      <td>American Amber / Red Ale</td>\n",
       "      <td>12.0</td>\n",
       "    </tr>\n",
       "    <tr>\n",
       "      <th>2407</th>\n",
       "      <td>B3K Black Lager</td>\n",
       "      <td>2407</td>\n",
       "      <td>Schwarzbier</td>\n",
       "      <td>12.0</td>\n",
       "    </tr>\n",
       "    <tr>\n",
       "      <th>2408</th>\n",
       "      <td>Silverback Pale Ale</td>\n",
       "      <td>2408</td>\n",
       "      <td>American Pale Ale (APA)</td>\n",
       "      <td>12.0</td>\n",
       "    </tr>\n",
       "    <tr>\n",
       "      <th>2409</th>\n",
       "      <td>Rail Yard Ale (2009)</td>\n",
       "      <td>2409</td>\n",
       "      <td>American Amber / Red Ale</td>\n",
       "      <td>12.0</td>\n",
       "    </tr>\n",
       "  </tbody>\n",
       "</table>\n",
       "<p>2410 rows × 4 columns</p>\n",
       "</div>"
      ],
      "text/plain": [
       "                      name  Unnamed: 0                           style  ounces\n",
       "0                 Pub Beer           0             American Pale Lager    12.0\n",
       "1              Devil's Cup           1         American Pale Ale (APA)    12.0\n",
       "2      Rise of the Phoenix           2                    American IPA    12.0\n",
       "3                 Sinister           3  American Double / Imperial IPA    12.0\n",
       "4            Sex and Candy           4                    American IPA    12.0\n",
       "...                    ...         ...                             ...     ...\n",
       "2405             Belgorado        2405                     Belgian IPA    12.0\n",
       "2406         Rail Yard Ale        2406        American Amber / Red Ale    12.0\n",
       "2407       B3K Black Lager        2407                     Schwarzbier    12.0\n",
       "2408   Silverback Pale Ale        2408         American Pale Ale (APA)    12.0\n",
       "2409  Rail Yard Ale (2009)        2409        American Amber / Red Ale    12.0\n",
       "\n",
       "[2410 rows x 4 columns]"
      ]
     },
     "execution_count": 129,
     "metadata": {},
     "output_type": "execute_result"
    }
   ],
   "source": []
  },
  {
   "cell_type": "code",
   "execution_count": 38,
   "id": "c7bc336d",
   "metadata": {},
   "outputs": [
    {
     "data": {
      "text/plain": [
       "array(['Bitter Bitch', 'Lower De Boom', 'Fireside Chat', ...,\n",
       "       'Worthy Pale', 'Belgorado', 'Silverback Pale Ale'], dtype=object)"
      ]
     },
     "execution_count": 38,
     "metadata": {},
     "output_type": "execute_result"
    }
   ],
   "source": [
    "df_abv[\"name\"].unique()"
   ]
  },
  {
   "cell_type": "code",
   "execution_count": 11,
   "id": "9804e3c2",
   "metadata": {},
   "outputs": [
    {
     "data": {
      "text/plain": [
       "<AxesSubplot:>"
      ]
     },
     "execution_count": 11,
     "metadata": {},
     "output_type": "execute_result"
    },
    {
     "data": {
      "image/png": "[encoded data removed]",
      "text/plain": [
       "<Figure size 720x720 with 2 Axes>"
      ]
     },
     "metadata": {
      "needs_background": "light"
     },
     "output_type": "display_data"
    }
   ],
   "source": [
    "import seaborn as sns\n",
    "plt.figure(figsize=(10,10))\n",
    "df_top_corr = df_new[top_correlation['data'].values]\n",
    "sns.heatmap(df_top_corr.corr(),annot=True)"
   ]
  },
  {
   "cell_type": "code",
   "execution_count": null,
   "id": "c5acdc78",
   "metadata": {},
   "outputs": [],
   "source": [
    "plot = df_1.plot.pie(y='rating', figsize=(5, 5))"
   ]
  }
 ],
 "metadata": {
  "kernelspec": {
   "display_name": "Python 3",
   "language": "python",
   "name": "python3"
  },
  "language_info": {
   "codemirror_mode": {
    "name": "ipython",
    "version": 3
   },
   "file_extension": ".py",
   "mimetype": "text/x-python",
   "name": "python",
   "nbconvert_exporter": "python",
   "pygments_lexer": "ipython3",
   "version": "3.9.5"
  }
 },
 "nbformat": 4,
 "nbformat_minor": 5
}
